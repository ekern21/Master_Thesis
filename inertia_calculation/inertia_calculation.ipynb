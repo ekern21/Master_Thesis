{
 "cells": [
  {
   "cell_type": "code",
   "execution_count": 4,
   "metadata": {},
   "outputs": [],
   "source": [
    "import numpy as np\n",
    "\n",
    "def calculate_inertia_parrallel_axis(m,r,I):\n",
    "    I_res = np.empty_like(I)\n",
    "    r_aux = -r\n",
    "    I_res[0,0] = I[0,0] + (np.square(r_aux[1]) + np.square(r_aux[2]))*m\n",
    "    I_res[1,1] = I[1,1] + (np.square(r_aux[0]) + np.square(r_aux[2]))*m\n",
    "    I_res[2,2] = I[2,2] + (np.square(r_aux[0]) + np.square(r_aux[1]))*m\n",
    "    I_res[0,1] = I[0,1] - r_aux[0] * r_aux[1] * m\n",
    "    I_res[0,2] = I[0,2] - r_aux[0] * r_aux[2] * m\n",
    "    I_res[1,2] = I[1,2] - r_aux[1] * r_aux[1] * m\n",
    "    I_res[1,0] = I_res[0,1]\n",
    "    I_res[2,0] = I_res[0,2]\n",
    "    I_res[2,1] = I_res[1,2]\n",
    "    return I_res"
   ]
  },
  {
   "cell_type": "code",
   "execution_count": 3,
   "metadata": {},
   "outputs": [
    {
     "name": "stdout",
     "output_type": "stream",
     "text": [
      "Inertia tensor object in sensor frame: \n",
      " [[ 0.016002 -0.001179 -0.003537]\n",
      " [-0.001179  0.016002 -0.001179]\n",
      " [-0.003537 -0.001179  0.00657 ]]\n",
      "Inertia tensor link in sensor frame: \n",
      " [[0.0532 0.     0.    ]\n",
      " [0.     0.0532 0.    ]\n",
      " [0.     0.     0.05  ]]\n",
      "Inertia tensor sum in sensor frame: \n",
      " [[ 0.069202 -0.001179 -0.003537]\n",
      " [-0.001179  0.069202 -0.001179]\n",
      " [-0.003537 -0.001179  0.05657 ]]\n"
     ]
    }
   ],
   "source": [
    "\n",
    "\n",
    "I = np.matrix('0.004212 0 0 ; 0 0.004212 0; 0 0 0.004212')\n",
    "com = np.array([-0.03 , -0.03 , -0.09])\n",
    "m = 1.31\n",
    "I_sensor_frame = calculate_inertia_parrallel_axis(m, com, I)\n",
    "I_link = np.matrix('0.05 0 0 ; 0 0.05 0; 0 0 0.05')\n",
    "com_link = np.array([0 , 0 , -0.08])\n",
    "m_link = 0.5\n",
    "I_link_sensor_frame = calculate_inertia_parrallel_axis(m_link, com_link, I_link)\n",
    "print('Inertia tensor object in sensor frame: \\n {}'.format(I_sensor_frame))\n",
    "print('Inertia tensor link in sensor frame: \\n {}'.format(I_link_sensor_frame))\n",
    "I_ges = I_sensor_frame + I_link_sensor_frame\n",
    "print('Inertia tensor sum in sensor frame: \\n {}'.format(I_ges))"
   ]
  },
  {
   "cell_type": "code",
   "execution_count": 6,
   "metadata": {},
   "outputs": [
    {
     "name": "stdout",
     "output_type": "stream",
     "text": [
      "Inertia tensor object in sensor frame: \n",
      " [[ 1.45085473e-02  2.09864341e-06 -2.81827601e-04]\n",
      " [ 2.09864341e-06  1.45155233e-02 -5.82678312e-07]\n",
      " [-2.81827601e-04 -5.82678312e-07  4.00814140e-03]]\n"
     ]
    }
   ],
   "source": [
    "I = np.matrix('0.004 0 0 ; 0 0.004 0; 0 0 0.004')\n",
    "com = np.array([-0.00241322 , 0.000670019 , -0.0899771])\n",
    "m = 1.29794\n",
    "I_sensor_frame = calculate_inertia_parrallel_axis(m, com, I)\n",
    "print('Inertia tensor object in sensor frame: \\n {}'.format(I_sensor_frame))\n"
   ]
  },
  {
   "cell_type": "code",
   "execution_count": null,
   "metadata": {},
   "outputs": [],
   "source": [
    "1.31003\n",
    "estimated center of mass: \n",
    " 0.029832 0.0298581 0.0898779\n",
    "estimated Inertia: \n",
    "  0.0159203 -0.00107207 -0.00354551\n",
    "-0.00107207   0.0158867 -0.00353258\n",
    "-0.00354551 -0.00353258   0.0065347"
   ]
  },
  {
   "cell_type": "code",
   "execution_count": 18,
   "metadata": {},
   "outputs": [],
   "source": [
    "from numpy import linalg as LA\n",
    "def isRotationMatrix(M):\n",
    "    tag = False\n",
    "    I = np.identity(M.shape[0])\n",
    "    if np.all((np.matmul(M, M.T)) == I) and (np.linalg.det(M)==1): tag = True\n",
    "    return tag  \n",
    "def normalizezRot(R):\n",
    "    R_normalized= np.zeros(R.shape)\n",
    "    for i in np.arange(3):\n",
    "        for j in np.arange(3):\n",
    "            R_axis = R[:,i]\n",
    "            R_axis_norm = LA.norm(R_axis);\n",
    "            R_normalized[j,i] = R[j,i]/ R_axis_norm\n",
    "    print(R_normalized)        \n",
    "    return R_normalized\n",
    "#         R(0,0)\n",
    "    "
   ]
  },
  {
   "cell_type": "code",
   "execution_count": 26,
   "metadata": {},
   "outputs": [],
   "source": [
    "ori = np.matrix([[0.07 ,  -0.84 ,  -0.],[0 ,  0.2,   -0.9],[0.93,   0.2  ,0.316227766]])\n",
    "\n",
    "              "
   ]
  },
  {
   "cell_type": "code",
   "execution_count": 27,
   "metadata": {},
   "outputs": [
    {
     "data": {
      "text/plain": [
       "False"
      ]
     },
     "execution_count": 27,
     "metadata": {},
     "output_type": "execute_result"
    }
   ],
   "source": [
    "isRotationMatrix(ori)"
   ]
  },
  {
   "cell_type": "code",
   "execution_count": 23,
   "metadata": {},
   "outputs": [
    {
     "name": "stdout",
     "output_type": "stream",
     "text": [
      "[[ 0.36965564 -0.84025211 -0.        ]\n",
      " [-0.00799255  0.43012906 -0.98639392]\n",
      " [ 0.92913445  0.33009904  0.16439899]]\n"
     ]
    },
    {
     "data": {
      "text/plain": [
       "False"
      ]
     },
     "execution_count": 23,
     "metadata": {},
     "output_type": "execute_result"
    }
   ],
   "source": [
    "isRotationMatrix(normalizezRot(ori))"
   ]
  },
  {
   "cell_type": "code",
   "execution_count": null,
   "metadata": {},
   "outputs": [],
   "source": []
  },
  {
   "cell_type": "code",
   "execution_count": null,
   "metadata": {},
   "outputs": [],
   "source": []
  }
 ],
 "metadata": {
  "kernelspec": {
   "display_name": "Python 3",
   "language": "python",
   "name": "python3"
  },
  "language_info": {
   "codemirror_mode": {
    "name": "ipython",
    "version": 3
   },
   "file_extension": ".py",
   "mimetype": "text/x-python",
   "name": "python",
   "nbconvert_exporter": "python",
   "pygments_lexer": "ipython3",
   "version": "3.5.2"
  },
  "toc": {
   "base_numbering": 1,
   "nav_menu": {},
   "number_sections": true,
   "sideBar": true,
   "skip_h1_title": false,
   "title_cell": "Table of Contents",
   "title_sidebar": "Contents",
   "toc_cell": false,
   "toc_position": {
    "height": "calc(100% - 180px)",
    "left": "10px",
    "top": "150px",
    "width": "339.391px"
   },
   "toc_section_display": true,
   "toc_window_display": true
  }
 },
 "nbformat": 4,
 "nbformat_minor": 2
}
