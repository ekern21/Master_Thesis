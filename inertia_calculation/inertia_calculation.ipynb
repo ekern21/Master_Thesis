{
 "cells": [
  {
   "cell_type": "code",
   "execution_count": 1,
   "metadata": {},
   "outputs": [],
   "source": [
    "import numpy as np\n",
    "\n",
    "def calculate_inertia_parrallel_axis(m,r,I):\n",
    "    I_res = np.empty_like(I)\n",
    "    r_aux = -r\n",
    "    I_res[0,0] = I[0,0] + (np.square(r_aux[1]) + np.square(r_aux[2]))*m\n",
    "    I_res[1,1] = I[1,1] + (np.square(r_aux[0]) + np.square(r_aux[2]))*m\n",
    "    I_res[2,2] = I[2,2] + (np.square(r_aux[0]) + np.square(r_aux[1]))*m\n",
    "    I_res[0,1] = I[0,1] - r_aux[0] * r_aux[1] * m\n",
    "    I_res[0,2] = I[0,2] - r_aux[0] * r_aux[2] * m\n",
    "    I_res[1,2] = I[1,2] - r_aux[1] * r_aux[1] * m\n",
    "    I_res[1,0] = I_res[0,1]\n",
    "    I_res[2,0] = I_res[0,2]\n",
    "    I_res[2,1] = I_res[1,2]\n",
    "    return I_res"
   ]
  },
  {
   "cell_type": "code",
   "execution_count": 2,
   "metadata": {},
   "outputs": [
    {
     "name": "stdout",
     "output_type": "stream",
     "text": [
      "Inertia tensor object in sensor frame: \n",
      " [[0.014742 0.       0.      ]\n",
      " [0.       0.014742 0.      ]\n",
      " [0.       0.       0.004212]]\n",
      "Inertia tensor link in sensor frame: \n",
      " [[0.0532 0.     0.    ]\n",
      " [0.     0.0532 0.    ]\n",
      " [0.     0.     0.05  ]]\n",
      "Inertia tensor sum in sensor frame: \n",
      " [[0.067942 0.       0.      ]\n",
      " [0.       0.067942 0.      ]\n",
      " [0.       0.       0.054212]]\n"
     ]
    }
   ],
   "source": [
    "I = np.matrix('0.004212 0 0 ; 0 0.004212 0; 0 0 0.004212')\n",
    "com = np.array([0 , 0 , -0.09])\n",
    "m = 1.3\n",
    "I_sensor_frame = calculate_inertia_parrallel_axis(m, com, I)\n",
    "I_link = np.matrix('0.05 0 0 ; 0 0.05 0; 0 0 0.05')\n",
    "com_link = np.array([0 , 0 , -0.08])\n",
    "m_link = 0.5\n",
    "I_link_sensor_frame = calculate_inertia_parrallel_axis(m_link, com_link, I_link)\n",
    "print('Inertia tensor object in sensor frame: \\n {}'.format(I_sensor_frame))\n",
    "print('Inertia tensor link in sensor frame: \\n {}'.format(I_link_sensor_frame))\n",
    "I_ges = I_sensor_frame + I_link_sensor_frame\n",
    "print('Inertia tensor sum in sensor frame: \\n {}'.format(I_ges))"
   ]
  },
  {
   "cell_type": "code",
   "execution_count": 6,
   "metadata": {},
   "outputs": [
    {
     "name": "stdout",
     "output_type": "stream",
     "text": [
      "Inertia tensor object in sensor frame: \n",
      " [[ 0.006734 -0.000798 -0.00133 ]\n",
      " [-0.000798  0.005069 -0.001197]\n",
      " [-0.00133  -0.001197  0.004941]]\n"
     ]
    }
   ],
   "source": [
    "I = np.matrix('0.002212 0 0 ; 0 0.001212 0; 0 0 0.003212')\n",
    "com = np.array([0.02 ,0.03, 0.05])\n",
    "m = 1.33\n",
    "I_sensor_frame = calculate_inertia_parrallel_axis(m, com, I)\n",
    "print('Inertia tensor object in sensor frame: \\n {}'.format(I_sensor_frame))        \n",
    "        \n",
    "        "
   ]
  },
  {
   "cell_type": "code",
   "execution_count": null,
   "metadata": {},
   "outputs": [],
   "source": []
  }
 ],
 "metadata": {
  "kernelspec": {
   "display_name": "Python 3",
   "language": "python",
   "name": "python3"
  },
  "language_info": {
   "codemirror_mode": {
    "name": "ipython",
    "version": 3
   },
   "file_extension": ".py",
   "mimetype": "text/x-python",
   "name": "python",
   "nbconvert_exporter": "python",
   "pygments_lexer": "ipython3",
   "version": "3.7.3"
  },
  "toc": {
   "base_numbering": 1,
   "nav_menu": {},
   "number_sections": true,
   "sideBar": true,
   "skip_h1_title": false,
   "title_cell": "Table of Contents",
   "title_sidebar": "Contents",
   "toc_cell": false,
   "toc_position": {
    "height": "calc(100% - 180px)",
    "left": "10px",
    "top": "150px",
    "width": "165px"
   },
   "toc_section_display": true,
   "toc_window_display": true
  }
 },
 "nbformat": 4,
 "nbformat_minor": 2
}
