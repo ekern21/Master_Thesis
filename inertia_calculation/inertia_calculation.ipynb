{
 "cells": [
  {
   "cell_type": "code",
   "execution_count": 2,
   "metadata": {},
   "outputs": [],
   "source": [
    "import numpy as np\n",
    "\n",
    "def calculate_inertia_parrallel_axis(m,r,I):\n",
    "    I_res = np.empty_like(I)\n",
    "    r_aux = -r\n",
    "    I_res[0,0] = I[0,0] + (np.square(r_aux[1]) + np.square(r_aux[2]))*m\n",
    "    I_res[1,1] = I[1,1] + (np.square(r_aux[0]) + np.square(r_aux[2]))*m\n",
    "    I_res[2,2] = I[2,2] + (np.square(r_aux[0]) + np.square(r_aux[1]))*m\n",
    "    I_res[0,1] = I[0,1] - r_aux[0] * r_aux[1] * m\n",
    "    I_res[0,2] = I[0,2] - r_aux[0] * r_aux[2] * m\n",
    "    I_res[1,2] = I[1,2] - r_aux[1] * r_aux[1] * m\n",
    "    I_res[1,0] = I_res[0,1]\n",
    "    I_res[2,0] = I_res[0,2]\n",
    "    I_res[2,1] = I_res[1,2]\n",
    "    return I_res"
   ]
  },
  {
   "cell_type": "code",
   "execution_count": 4,
   "metadata": {},
   "outputs": [
    {
     "name": "stdout",
     "output_type": "stream",
     "text": [
      "Inertia tensor in sensor frame: \n",
      " [[0.015912 0.       0.      ]\n",
      " [0.       0.015912 0.      ]\n",
      " [0.       0.       0.004212]]\n",
      "[[0.0532 0.     0.    ]\n",
      " [0.     0.0532 0.    ]\n",
      " [0.     0.     0.05  ]]\n",
      "[[0.069112 0.       0.      ]\n",
      " [0.       0.069112 0.      ]\n",
      " [0.       0.       0.054212]]\n"
     ]
    }
   ],
   "source": [
    "I = np.matrix('0.004212 0 0 ; 0 0.004212 0; 0 0 0.004212')\n",
    "com = np.array([0 , 0 , -0.09])\n",
    "m = 1.3\n",
    "I_sensor_frame = calculate_inertia_parrallel_axis(m, com, I)\n",
    "I_link = np.matrix('0.05 0 0 ; 0 0.05 0; 0 0 0.05')\n",
    "com_link = np.array([0 , 0 , -0.08])\n",
    "m_link = 0.5\n",
    "I_link_sensor_frame = calculate_inertia_parrallel_axis(m_link, com_link, I_link)\n",
    "print('Inertia tensor object in sensor frame: \\n {}'.format(I_sensor_frame))\n",
    "print('Inertia tensor link in sensor frame: \\n {}'.format(I_link_sensor_frame))\n",
    "I_ges = I_sensor_frame + I_link_sensor_frame\n",
    "print('Inertia tensor sum in sensor frame: \\n {}'.format(I_ges))"
   ]
  },
  {
   "cell_type": "code",
   "execution_count": 6,
   "metadata": {},
   "outputs": [
    {
     "name": "stdout",
     "output_type": "stream",
     "text": [
      "Inertia tensor object in sensor frame: \n",
      " [[ 1.45085473e-02  2.09864341e-06 -2.81827601e-04]\n",
      " [ 2.09864341e-06  1.45155233e-02 -5.82678312e-07]\n",
      " [-2.81827601e-04 -5.82678312e-07  4.00814140e-03]]\n"
     ]
    }
   ],
   "source": [
    "I = np.matrix('0.004 0 0 ; 0 0.004 0; 0 0 0.004')\n",
    "com = np.array([-0.00241322 , 0.000670019 , -0.0899771])\n",
    "m = 1.29794\n",
    "I_sensor_frame = calculate_inertia_parrallel_axis(m, com, I)\n",
    "print('Inertia tensor object in sensor frame: \\n {}'.format(I_sensor_frame))\n"
   ]
  },
  {
   "cell_type": "code",
   "execution_count": null,
   "metadata": {},
   "outputs": [],
   "source": []
  }
 ],
 "metadata": {
  "kernelspec": {
   "display_name": "Python 3",
   "language": "python",
   "name": "python3"
  },
  "language_info": {
   "codemirror_mode": {
    "name": "ipython",
    "version": 3
   },
   "file_extension": ".py",
   "mimetype": "text/x-python",
   "name": "python",
   "nbconvert_exporter": "python",
   "pygments_lexer": "ipython3",
   "version": "3.5.2"
  },
  "toc": {
   "base_numbering": 1,
   "nav_menu": {},
   "number_sections": true,
   "sideBar": true,
   "skip_h1_title": false,
   "title_cell": "Table of Contents",
   "title_sidebar": "Contents",
   "toc_cell": false,
   "toc_position": {},
   "toc_section_display": true,
   "toc_window_display": true
  }
 },
 "nbformat": 4,
 "nbformat_minor": 2
}
