{
 "cells": [
  {
   "cell_type": "code",
   "execution_count": 3,
   "metadata": {},
   "outputs": [],
   "source": [
    "import numpy as np\n",
    "data_file_A = \"data_file_A_04-01-19_20-23-20\"\n",
    "data_file_ft = \"data_file_ft_04-01-19_20-23-20\"\n",
    "\n",
    "\n",
    "\n",
    "\n",
    "path = \"/Users/elenakern/university/masters/sai-2/apps/inertial_parameter_application/data_collection/simulation/inertial_params_input/\"\n",
    "\n",
    "# path = \"/home/elenakern/Codes/sai2.0/applications/data_collection/simulation/inertial_params_est/\"\n",
    "path_data_file_1 = path + data_file_A\n",
    "path_data_file_2 = path + data_file_ft\n",
    "\n",
    "\n",
    "file_A = np.loadtxt(path_data_file_1,skiprows=1)\n",
    "file_ft = np.loadtxt(path_data_file_2,skiprows=1)\n",
    "A = np.zeros(6,10)\n",
    "for i in len(file_A[:,0])\n",
    "\n",
    "A_0 = file_A[0::,0:10]\n",
    "A_1 = file_A[0::,10:20]\n",
    "A_2 = file_A[0::,20:30]\n",
    "A_3 = file_A[0::,30:40]\n",
    "A_4 = file_A[0::,40:50]\n",
    "A_5 = file_A[0::,50:60]\n",
    "\n",
    "ft = file_ft[0::,:]\n",
    "\n",
    "\n"
   ]
  },
  {
   "cell_type": "code",
   "execution_count": 8,
   "metadata": {},
   "outputs": [
    {
     "data": {
      "text/plain": [
       "(23023, 6)"
      ]
     },
     "execution_count": 8,
     "metadata": {},
     "output_type": "execute_result"
    }
   ],
   "source": [
    "ft.shape"
   ]
  },
  {
   "cell_type": "code",
   "execution_count": null,
   "metadata": {},
   "outputs": [],
   "source": []
  }
 ],
 "metadata": {
  "kernelspec": {
   "display_name": "Python 3",
   "language": "python",
   "name": "python3"
  },
  "language_info": {
   "codemirror_mode": {
    "name": "ipython",
    "version": 3
   },
   "file_extension": ".py",
   "mimetype": "text/x-python",
   "name": "python",
   "nbconvert_exporter": "python",
   "pygments_lexer": "ipython3",
   "version": "3.7.2"
  },
  "toc": {
   "base_numbering": 1,
   "nav_menu": {},
   "number_sections": true,
   "sideBar": true,
   "skip_h1_title": false,
   "title_cell": "Table of Contents",
   "title_sidebar": "Contents",
   "toc_cell": false,
   "toc_position": {},
   "toc_section_display": true,
   "toc_window_display": true
  }
 },
 "nbformat": 4,
 "nbformat_minor": 2
}
