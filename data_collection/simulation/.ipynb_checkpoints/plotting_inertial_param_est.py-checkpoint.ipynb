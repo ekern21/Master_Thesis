{
 "cells": [
  {
   "cell_type": "markdown",
   "metadata": {},
   "source": [
    "# Analyzing inertial parameter estimation in simulation\n",
    "## Read Text file and make variables"
   ]
  },
  {
   "cell_type": "code",
   "execution_count": null,
   "metadata": {},
   "outputs": [],
   "source": [
    "#!/usr/bin/env python3\n",
    "\n",
    "# read text files\n",
    "\n",
    "import matplotlib.pyplot as plt\n",
    "import numpy as np\n",
    "import sys\n",
    "from scipy import signal, fftpack\n",
    "from scipy.signal import savgol_filter\n",
    "%matplotlib inline\n",
    "\n",
    "# enter data file here\n",
    "data_file = \"data_file_03-14-19_12-55-13\"\n",
    "# info about data_file_03-14-19_12-55-13\n",
    "# RLS controller drawing circles\n",
    "# correct estimation m,com\n",
    "# gravity included\n",
    "\n",
    "path = \"/home/elenakern/Codes/sai2.0/applications/data_collection/simulation/inertial_params_est/\"\n",
    "path_data_file = path + data_file\n",
    "\n",
    "file = np.loadtxt(path_data_file,skiprows=1)\n",
    "\n",
    "accel           = file[0::,0:3]     #linear acceleration (end-effector in last link frame)\n",
    "avel            = file[0::,3:6]     #angular velocity (end-effector in last link frame)\n",
    "aaccel          = file[0::,6:9]     #angular acceleration (end-effector in last link frame)\n",
    "g_local         = file[0::,9:12]    #gravity vector (end-effector in last link frame)\n",
    "force_virtual   = file[0::,21:24]   #virtual force simulation\n",
    "torque_virtual  = file[0::,24:27]   #virtual torque simulation\n",
    "phi             = file[0::,27,37]   #inertial parameters\n",
    "mass            = file[0::,27:28]   #estimated mass\n",
    "center_of_mass  = file[0::,28:31]   #estimated center of mass\n",
    "inertial_tensor = file[0::,31:37]   #estimated inertia tensor\n",
    "\n",
    "time = np.arange(np.size(accel[:,0]))\n",
    "time = time/1000"
   ]
  },
  {
   "cell_type": "markdown",
   "metadata": {},
   "source": [
    "## Plotting functions\n",
    "### TUM colors"
   ]
  },
  {
   "cell_type": "code",
   "execution_count": 1,
   "metadata": {},
   "outputs": [],
   "source": [
    "#TUM colors rgb\n",
    "blue = (0,0.3961,0.7412)\n",
    "red = (0.7686,0.0275,0.1059)\n",
    "green =(0,0.4863,0.1882)\n",
    "orange =  (0.8902, 0.4471, 0.1333)\n",
    "purple = (0.4118, 0.0314, 0.3529)\n",
    "grey = (0.6118, 0.6157, 0.6235)\n",
    "yellow = (0.9765, 0.7294, 0)"
   ]
  },
  {
   "cell_type": "markdown",
   "metadata": {},
   "source": [
    "### Function definitions"
   ]
  },
  {
   "cell_type": "code",
   "execution_count": 2,
   "metadata": {},
   "outputs": [],
   "source": [
    "def Plot_three_dim(time, data, title, subtitle):\n",
    "    f, axarr = plt.subplots(3,1,figsize=(9,9))\n",
    "    f.suptitle(title, fontsize=20)\n",
    "    coordinates = [\"$_x$\",\"$_y$\",\"$_z$\"]\n",
    "    for idx,coordinate in enumerate(coordinates):\n",
    "        axarr[idx].plot(time, data[:,idx], c=blue)\n",
    "        axarr[idx].set_title(subtitle+str(coordinate))\n",
    "        axarr[idx].set_xlim([0, time[-1]])\n",
    "    axarr[2].set_xlabel(\"Elapsed time in $s$\")\n",
    "    plt.setp([a.get_xticklabels() for a in f.axes[:-1]], visible=False)\n",
    "    plt.tight_layout()\n",
    "    plt.subplots_adjust(top=0.9)\n",
    "def Plot_intertial_params(time, data):\n",
    "    f, axarr = plt.subplots(7,1,figsize=(9,9))\n",
    "    f.suptitle(\"Inertial Parameter Estimation\", fontsize=20)\n",
    "    params = ['Mass in $kg$', 'COM_x in $m$','COM_y in $m$', 'COM_z in $m$', '$I_{xx}$','$I_{xy}$', '$I_{xz}$','$I_{yx}$','$I_{yy}$','$I_{yz}$', '$I_{zx}$','$I_{zy}$','$I_{zz}$']\n",
    "    for idx, param in enumerate(params):\n",
    "        axarr[i].plot(time, data[:,idx], c=blue)\n",
    "        axarr[i].set_title(param)\n",
    "        axarr[i].set_xlim([0, time[-1]])\n",
    "    axarr[6].set_xlabel(\"Elapsed time in $s$\")\n",
    "    plt.setp([a.get_xticklabels() for a in f.axes[:-1]], visible=False)\n",
    "    plt.tight_layout()\n",
    "    plt.subplots_adjust(top=0.9)"
   ]
  },
  {
   "cell_type": "code",
   "execution_count": 3,
   "metadata": {},
   "outputs": [
    {
     "ename": "NameError",
     "evalue": "name 'time' is not defined",
     "output_type": "error",
     "traceback": [
      "\u001b[0;31m---------------------------------------------------------------------------\u001b[0m",
      "\u001b[0;31mNameError\u001b[0m                                 Traceback (most recent call last)",
      "\u001b[0;32m<ipython-input-3-d0b8253add34>\u001b[0m in \u001b[0;36m<module>\u001b[0;34m\u001b[0m\n\u001b[0;32m----> 1\u001b[0;31m \u001b[0mPlot_three_dim\u001b[0m\u001b[0;34m(\u001b[0m\u001b[0mtime\u001b[0m\u001b[0;34m,\u001b[0m \u001b[0maccel\u001b[0m\u001b[0;34m,\u001b[0m \u001b[0;34m\"Linear Acceleration\"\u001b[0m\u001b[0;34m,\u001b[0m \u001b[0;34m\"$a$\"\u001b[0m\u001b[0;34m)\u001b[0m\u001b[0;34m\u001b[0m\u001b[0m\n\u001b[0m",
      "\u001b[0;31mNameError\u001b[0m: name 'time' is not defined"
     ]
    }
   ],
   "source": [
    "Plot_three_dim(time, accel, \"Linear Acceleration\", \"$a$\")"
   ]
  },
  {
   "cell_type": "code",
   "execution_count": null,
   "metadata": {},
   "outputs": [],
   "source": []
  }
 ],
 "metadata": {
  "kernelspec": {
   "display_name": "Python 3",
   "language": "python",
   "name": "python3"
  },
  "language_info": {
   "codemirror_mode": {
    "name": "ipython",
    "version": 3
   },
   "file_extension": ".py",
   "mimetype": "text/x-python",
   "name": "python",
   "nbconvert_exporter": "python",
   "pygments_lexer": "ipython3",
   "version": "3.5.2"
  },
  "toc": {
   "base_numbering": 1,
   "nav_menu": {},
   "number_sections": true,
   "sideBar": true,
   "skip_h1_title": false,
   "title_cell": "Table of Contents",
   "title_sidebar": "Contents",
   "toc_cell": false,
   "toc_position": {},
   "toc_section_display": true,
   "toc_window_display": false
  }
 },
 "nbformat": 4,
 "nbformat_minor": 2
}
