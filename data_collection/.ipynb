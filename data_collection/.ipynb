{
 "cells": [
  {
   "cell_type": "code",
   "execution_count": 31,
   "metadata": {},
   "outputs": [],
   "source": [
    "# import matplotlib.pyplot as plt\n",
    "import numpy as np\n",
    "from scipy.signal import filtfilt, butter\n",
    "#%matplotlib inline"
   ]
  },
  {
   "cell_type": "markdown",
   "metadata": {},
   "source": [
    "# Function definition \n"
   ]
  },
  {
   "cell_type": "markdown",
   "metadata": {},
   "source": [
    "## Butterworth filter\n",
    "- digital filter, infinite impulse response\n",
    "- Butterworth: has maximally flat frequency response in the passband \n",
    "- fc: cutoff frequency (Hz)\n",
    "- fs: sampling frequency (Hz)\n",
    "- applied using filtfilt:\n",
    "    - signal twice, once forwards and once backwards\n",
    "    - order of resulting filter is twice the original filter order\n"
   ]
  },
  {
   "cell_type": "code",
   "execution_count": 32,
   "metadata": {},
   "outputs": [],
   "source": [
    "def filter_butter(input_vector, fc, fs, order):\n",
    "    nyquist = fs/2\n",
    "    wc = fc / nyquist\n",
    "    output_vector = np.zeros(input_vector.shape)\n",
    "    for i in np.arange(3):\n",
    "        xn = input_vector[:,i]\n",
    "        b, a = butter(order,wc)\n",
    "        if not np.all(np.abs(np.roots(a)) < 1):\n",
    "            print('Filter with cutoff at {} Hz is unstable given ' 'sample frequency {} Hz'.format(cutoff, fs))\n",
    "        y = filtfilt(b, a, xn)\n",
    "        output_vector[:,i] = y\n",
    "    return output_vector"
   ]
  },
  {
   "cell_type": "markdown",
   "metadata": {},
   "source": [
    "## Derivatives of measurements"
   ]
  },
  {
   "cell_type": "markdown",
   "metadata": {},
   "source": [
    "- Computes derivatives f_dot = f(t+dt) - f(t)/dt"
   ]
  },
  {
   "cell_type": "code",
   "execution_count": 33,
   "metadata": {
    "code_folding": [
     0
    ]
   },
   "outputs": [],
   "source": [
    "def get_derivative(measurement, logger_frequency):\n",
    "    derivatives = np.zeros(measurement.shape)\n",
    "    derivatives[1:,:]=measurement[1:]-measurement[:-1]\n",
    "    derivatives[0]=derivatives[1]\n",
    "    derivatives = derivatives * logger_frequency\n",
    "    return derivatives"
   ]
  },
  {
   "cell_type": "markdown",
   "metadata": {},
   "source": [
    "- Computes derivatives f_dot = f(t+dt) - f(t)/dt then filters signal with butterworth filter"
   ]
  },
  {
   "cell_type": "code",
   "execution_count": 34,
   "metadata": {},
   "outputs": [],
   "source": [
    "def ComputeDotFiltered(input_vector,cutoff_filter,logger_freq, order_filter):\n",
    "        input_vector_dot = get_derivative(input_vector,logger_freq)\n",
    "        output_vector = filter_butter(input_vector,cutoff_filter,logger_freq, order_filter)\n",
    "        return output_vector\n",
    "    \n",
    "def ComputeFilteredDotFiltered(input_vector,cutoff_filter,logger_freq, order_filter):\n",
    "        input_vector_filtered = filter_butter(input_vector,cutoff_filter,logger_freq, order_filter)\n",
    "        output_vector = ComputeDotFiltered(input_vector_filtered ,cutoff_filter,  logger_freq, order_filter)\n",
    "        return output_vector"
   ]
  },
  {
   "cell_type": "markdown",
   "metadata": {},
   "source": [
    "## Fourier series in Python"
   ]
  },
  {
   "cell_type": "code",
   "execution_count": 35,
   "metadata": {
    "code_folding": [
     21,
     42
    ]
   },
   "outputs": [],
   "source": [
    "def fourier_series_q(a, b, axis, N, w_f, q0, time):\n",
    "    M_a = np.zeros(shape=(N, axis))\n",
    "    M_b = np.zeros(shape=(N, axis))\n",
    "    for i in np.arange(axis):\n",
    "        for j in np.arange(N):\n",
    "            M_a[j, i] = a[j+(i*2)]\n",
    "            M_b[j, i] = b[j+(i*2)]\n",
    "            \n",
    "    arg = w_f * time\n",
    "    arg_diff = w_f\n",
    "    arg_diff_diff = w_f*w_f\n",
    "\n",
    "    q = np.zeros(shape=(axis))\n",
    "    dq = np.zeros(shape=(axis))\n",
    "    ddq = np.zeros(shape=(axis))\n",
    "    for i in np.arange(axis):\n",
    "        q[i] += q0[i]\n",
    "        for j in np.arange(N):\n",
    "            q[i] += M_a[j,i] * np.sin(arg*(j+1)) + M_b[j,i] * np.cos(arg*(j+1))\n",
    "    return q\n",
    "\n",
    "def fourier_series_dq(a, b, axis, N, w_f, q0, time):\n",
    "    M_a = np.zeros(shape=(N, axis))\n",
    "    M_b = np.zeros(shape=(N, axis))\n",
    "    for i in np.arange(axis):\n",
    "        for j in np.arange(N):\n",
    "            M_a[j, i] = a[j+(i*2)]\n",
    "            M_b[j, i] = b[j+(i*2)]\n",
    "            \n",
    "    arg = w_f * time\n",
    "    arg_diff = w_f\n",
    "    arg_diff_diff = w_f*w_f\n",
    "\n",
    "    q = np.zeros(shape=(axis))\n",
    "    dq = np.zeros(shape=(axis))\n",
    "    ddq = np.zeros(shape=(axis))\n",
    "    for i in np.arange(axis):\n",
    "        q[i] = q0[i]\n",
    "        for j in np.arange(N):\n",
    "            dq[i] += M_a[j,i] * arg_diff * (j+1) * np.cos(arg*(j+1)) - M_b[j,i] * arg_diff * (j+1) * np.sin(arg*(j+1))      \n",
    "    return dq\n",
    "\n",
    "def fourier_series_ddq(a, b, axis, N, w_f, q0, time):\n",
    "    M_a = np.zeros(shape=(N, axis))\n",
    "    M_b = np.zeros(shape=(N, axis))\n",
    "    for i in np.arange(axis):\n",
    "        for j in np.arange(N):\n",
    "            M_a[j, i] = a[j+(i*2)]\n",
    "            M_b[j, i] = b[j+(i*2)]\n",
    "            \n",
    "    arg = w_f * time\n",
    "    arg_diff = w_f\n",
    "    arg_diff_diff = w_f*w_f\n",
    "\n",
    "    q = np.zeros(shape=(axis))\n",
    "    dq = np.zeros(shape=(axis))\n",
    "    ddq = np.zeros(shape=(axis))\n",
    "    for i in np.arange(axis):\n",
    "        q[i] = q0[i]\n",
    "        for j in np.arange(N):\n",
    "        \n",
    "            ddq[i] += - M_a[j,i] * arg_diff_diff * (j+1)*(j+1) * np.sin(arg*(j+1)) - M_b[j,i] * arg_diff_diff * (j+1)*(j+1) * np.cos(arg*(j+1))\n",
    "            \n",
    "    return ddq"
   ]
  },
  {
   "cell_type": "markdown",
   "metadata": {},
   "source": [
    "## Fouriertransform"
   ]
  },
  {
   "cell_type": "code",
   "execution_count": 36,
   "metadata": {},
   "outputs": [],
   "source": [
    "def fouriertransform(time, data, frequency):\n",
    "    Fs = frequency\n",
    "    Ts = 1.0 / Fs\n",
    "    t = time\n",
    "    n = len(data[:,0])\n",
    "    k = np.arange(n)\n",
    "    T = n/Fs\n",
    "    frq_two_sides = k/T\n",
    "    frq_one_side = frq_two_sides[range(int(n/2.0))]\n",
    "    Y = np.fft.fft(data)/n\n",
    "    Y = Y[range(int(n/2.0))]\n",
    "    \n"
   ]
  },
  {
   "cell_type": "markdown",
   "metadata": {},
   "source": [
    "## Rotation from IMU frame to Force Sensor frame"
   ]
  },
  {
   "cell_type": "code",
   "execution_count": 37,
   "metadata": {},
   "outputs": [],
   "source": [
    "def rotate_in_force_sensor_frame(data_in_IMU_frame):\n",
    "    data_in_FS_frame = np.zeros(data_in_IMU_frame.shape)\n",
    "    \n",
    "    data_in_FS_frame[:,0] = data_in_IMU_frame[:,2]\n",
    "    data_in_FS_frame[:,1] = data_in_IMU_frame[:,0]\n",
    "    data_in_FS_frame[:,2] = data_in_IMU_frame[:,1]\n",
    "    \n",
    "    return data_in_FS_frame\n"
   ]
  },
  {
   "cell_type": "code",
   "execution_count": 38,
   "metadata": {},
   "outputs": [],
   "source": [
    "def principal_moments(phi):\n",
    "    Theta = np.zeros((3,3))\n",
    "    theta = np.zeros((np.array(phi[:,0:3].shape)))\n",
    "    for i, number in enumerate(phi[:,0]):\n",
    "        Theta = np.array([[phi[i,4], phi[i,5],phi[i,6]],[phi[i,5],phi[i,7],phi[i,8]],[phi[i,6],phi[i,8],phi[i,9]]])\n",
    "        diag = np.diag(Theta)\n",
    "        theta[i, :] = diag\n",
    "    return theta"
   ]
  },
  {
   "cell_type": "markdown",
   "metadata": {},
   "source": [
    "## Objects"
   ]
  },
  {
   "cell_type": "markdown",
   "metadata": {},
   "source": [
    "### Kinematics Object"
   ]
  },
  {
   "cell_type": "code",
   "execution_count": 39,
   "metadata": {
    "code_folding": []
   },
   "outputs": [],
   "source": [
    "class AngularKinematics:\n",
    "    def __init__(self, avel, aaccel):\n",
    "        self.avel = avel\n",
    "        self.aaccel = aaccel\n",
    "\n",
    "class Kinematics(AngularKinematics):\n",
    "    def __init__(self, accel, avel, aaccel):\n",
    "        AngularKinematics.__init__(self, avel, aaccel)\n",
    "        self.accel = accel\n",
    "    def computeDerivatives(self, freq):\n",
    "        self.accel_dot = get_derivative(self.accel,freq)\n",
    "        self.avel_dot = get_derivative(self.avel,freq)\n",
    "        self.aaccel_dot = get_derivative(self.aaccel,freq)\n",
    "    def computeFilteredDerivatives(self,fc, freq, order):    \n",
    "        computeDerivatives(freq)\n",
    "        self.filt_accel_dot_filt = ComputeFilteredDotFiltered(self.accel,fc, freq, order)\n",
    "        self.filt_avel_dot_filt = ComputeFilteredDotFiltered(self.avel,fc, freq, order)\n",
    "        self.filt_aaccel_dot_filt = ComputeFilteredDotFiltered(self.aaccel,fc,freq, order)\n",
    "        \n",
    "        self.accel_dot_filt = ComputeDotFiltered(self.accel,fc, freq, order)\n",
    "        self.avel_dot_filt = ComputeDotFiltered(self.avel,fc, freq, order)\n",
    "        self.aaccel_dot_filt = ComputeDotFiltered(self.aaccel,fc, freq, order)\n",
    "        \n",
    "class KinematicsData(Kinematics):\n",
    "    def __init__(self, pos, vel, accel, avel, aaccel):\n",
    "        Kinematics.__init__(self, accel, avel, aaccel)\n",
    "        self.pos = pos\n",
    "        self.vel = vel\n",
    "    def addGravity(self,g_local):\n",
    "        self.gravity = g_local\n",
    "    def addOrientation(self, orientation):\n",
    "        self.ori = orientation\n",
    "    def computeDerivatives(self, freq):\n",
    "        Kinematics.computeDerivatives(self)\n",
    "        self.pos_dot =  get_derivative(self.pos,freq)\n",
    "        self.vel_dot = get_derivative(self.vel,freq)\n",
    "        \n",
    "    def computeFilteredDerivatives(self, freq, fc, order):\n",
    "        Kinematics.computeFilteredDerivatives(self, freq, fc, order)\n",
    "        \n",
    "        self.filt_pos_dot_filt = ComputeFilteredDotFiltered(self.pos, fc, freq, order)\n",
    "        self.filt_vel_dot_filt = ComputeFilteredDotFiltered(self.vel, fc, freq, order)\n",
    "        \n",
    "        self.pos_dot_filt = ComputeDotFiltered(self.pos,fc, freq, order)\n",
    "        self.vel_dot_filt = ComputeDotFiltered(self.vel,fc, freq, order)\n",
    "        \n",
    "class Input(Kinematics):\n",
    "    def __init__(self, accel, avel, aaccel, g_local):\n",
    "        Kinematics.__init__(self, accel, avel, aaccel)\n",
    "        self.gravity = g_local\n",
    "\n",
    "class EstimationInput(Input):\n",
    "    def __init__(self, accel, avel, aaccel, g_local, force, torque):\n",
    "        Input.__init__(self, accel, avel, aaccel, g_local)\n",
    "        self.force = force\n",
    "        self.torque = torque\n",
    "        \n",
    "class Estimation(EstimationInput):\n",
    "    def __init__(self, accel, avel, aaccel, g_local, force, torque, phi):\n",
    "        EstimationInput.__init__(self, accel, avel, aaccel, g_local, force, torque)\n",
    "        self.phi = phi\n",
    "        \n",
    "\n",
    "\n",
    "        \n",
    "\n",
    "class FTSensor:\n",
    "    def __init__(self, force, torque):\n",
    "        self.force = force\n",
    "        self.torque = torque\n",
    "        \n",
    "class IMUSensor: \n",
    "    def __init__(self,accel,avel):\n",
    "        self.avel = avel\n",
    "        self.accel = accel\n",
    "\n",
    "class Sensors (IMUSensor):\n",
    "    def __init__(self,accel,avel,force, torque):\n",
    "        IMUSensor.__init__(self,accel,avel)\n",
    "        self.force = force\n",
    "        self.torque = torque\n",
    "    \n",
    "\n",
    "        \n",
    "        \n",
    "\n",
    "            \n",
    "        \n",
    "        \n"
   ]
  },
  {
   "cell_type": "markdown",
   "metadata": {},
   "source": [
    "### Joint Trajectory Objects"
   ]
  },
  {
   "cell_type": "code",
   "execution_count": 40,
   "metadata": {},
   "outputs": [],
   "source": [
    "class JointData:\n",
    "    \n",
    "    def __init__(self, q, dq):\n",
    "        self.q = q\n",
    "        self.dq = dq\n",
    "        \n",
    "class JointTrajectory(JointData):\n",
    "    def __init__(self, q, q_des,dq, dq_des):\n",
    "        JointData.__init__(self, q, dq)\n",
    "        self.q_des = q_des\n",
    "        self.dq_des = dq_des\n",
    "    def axis(self, axis):\n",
    "        self.axis = axis\n",
    "        self.q_axis = self.q[:,7-axis::]\n",
    "        self.dq_axis = self.dq[:,7-axis::]\n",
    "    \n",
    "    def fourier(self, time, a, b, N, fourier_frequency, sampling_frequency, initial_config):    \n",
    "        if initial_config.shape != self.axis:\n",
    "            self.q0 = initial_config[7-self.axis::]\n",
    "        else:\n",
    "            self.q0 = initial_config \n",
    "        self.N = N\n",
    "        self.a = a\n",
    "        self.b = b\n",
    "        self.t = time\n",
    "        self.q0 *= np.pi/180.0\n",
    "        self.Ts = 1/sampling_frequency\n",
    "        self.w_f = fourier_frequency\n",
    "        \n",
    "        self.q_fourier = np.array([fourier_series_q(self.a,self.b,self.axis,self.N, self.w_f, self.q0, t) for t in self.t])\n",
    "        self.dq_fourier = np.array([fourier_series_dq(self.a,self.b,self.axis,self.N, self.w_f, self.q0, t) for t in self.t])\n",
    "        \n",
    "\n",
    "        \n",
    "class JointTrajectorySim(JointTrajectory):\n",
    "    def __init__(self, q, q_des, dq, dq_des, ddq, ddq_des):\n",
    "        JointTrajectory.__init__(self, q, q_des, dq, dq_des)\n",
    "        self.ddq = ddq\n",
    "        self.ddq_des = ddq_des\n",
    "        \n",
    "    def axis(self, axis):\n",
    "        JointTrajectory.axis(self,axis)\n",
    "        self.ddq_axis = self.ddq[:,7-axis::]\n",
    "        \n",
    "    def fourier(self, time, a, b, N, fourier_frequency, sampling_frequency, initial_config):\n",
    "        JointTrajectory.fourier(self, time, a, b, N, fourier_frequency, sampling_frequency, initial_config)\n",
    "        self.ddq_fourier = np.array([fourier_series_ddq(self.a,self.b,self.axis,self.N, self.w_f, self.q0, t) for t in self.t])\n",
    "\n"
   ]
  },
  {
   "cell_type": "markdown",
   "metadata": {},
   "source": [
    "### Controller Gain Tuning Objects"
   ]
  },
  {
   "cell_type": "code",
   "execution_count": null,
   "metadata": {},
   "outputs": [],
   "source": []
  },
  {
   "cell_type": "code",
   "execution_count": 41,
   "metadata": {},
   "outputs": [],
   "source": [
    "class Gains:\n",
    "    def __init__(self, k_vec):\n",
    "        self.k = k_vec\n",
    "class PIDController(Gains):\n",
    "    def __init__(self, k_vec):\n",
    "        Gains.__init__(self, k_vec)\n",
    "        \n",
    "        self.kp = self.k[0]\n",
    "        self.kv = self.k[1]\n",
    "        self.ki = self.k[2]\n",
    "class JointController(JointTrajectory, PIDController):\n",
    "    def __init__(self, q, q_des,dq, dq_des, k_vec):\n",
    "        JointTrajectory.__init__(self, q, q_des,dq, dq_des)\n",
    "        PIDController.__init__(self,k_vec)\n",
    "\n",
    "        \n",
    "class PosController(PIDController):\n",
    "    def __init__(self, pos_des, pos_curr, vel_des, vel_curr, k_vec_pos):\n",
    "        PIDController.__init__(self,k_vec_pos)\n",
    "        self.pos_des = pos_des\n",
    "        self.pos_curr = pos_curr\n",
    "        self.vel_des = vel_des\n",
    "        self.vel_curr = vel_curr       \n",
    "\n",
    "class OriController:\n",
    "    def __init__(self, ori_des, ori_curr, avel_des, avel_curr, k_vec_ang):\n",
    "        PIDController.__init__(self,k_vec_ang)       \n",
    "        self.ori_des = ori_des\n",
    "        self.ori_curr =ori_curr\n",
    "        self.avel_des = vel_des\n",
    "        self.avel_curr = vel_curr       \n",
    "\n",
    "class PosOriController(PosController, OriController):\n",
    "    def __init__(self, pos_des, pos_curr, vel_des, vel_curr, k_vec_pos,ori_des, ori_curr, avel_des, avel_curr, k_vec_ang ):\n",
    "        PosController.__init__(self, pos_des, pos_curr, vel_des, vel_curr, k_vec_pos)\n",
    "        OriController.__init__(self, ori_des, ori_curr, avel_des, avel_curr, k_vec_ang)\n",
    "    "
   ]
  },
  {
   "cell_type": "markdown",
   "metadata": {},
   "source": [
    "## Plotting Functions\n",
    "### TUM Colors"
   ]
  },
  {
   "cell_type": "code",
   "execution_count": 42,
   "metadata": {},
   "outputs": [],
   "source": [
    "blue = (0,0.3961,0.7412)\n",
    "red = (0.7686,0.0275,0.1059)\n",
    "green =(0,0.4863,0.1882)\n",
    "orange =  (0.8902, 0.4471, 0.1333)\n",
    "purple = (0.4118, 0.0314, 0.3529)\n",
    "grey = (0.6118, 0.6157, 0.6235)\n",
    "yellow = (0.9765, 0.7294, 0)\n",
    "color_list = [blue, red, green, orange, grey, purple, yellow]"
   ]
  },
  {
   "cell_type": "markdown",
   "metadata": {},
   "source": [
    "### Common labels\n",
    "#### Object class"
   ]
  },
  {
   "cell_type": "code",
   "execution_count": 43,
   "metadata": {},
   "outputs": [],
   "source": [
    "class Label:\n",
    "    def __init__(self, name, abbreviation, unit):\n",
    "        self.name = name;\n",
    "        self.abbreviation = abbreviation;\n",
    "        self.unit = unit"
   ]
  },
  {
   "cell_type": "code",
   "execution_count": 44,
   "metadata": {},
   "outputs": [],
   "source": [
    "pos_info = Label(\"Position\",\"$r$\", \"$m$\")\n",
    "vel_info = Label(\"Linear  velocity\",\"$v$\", r\"$\\frac{m}{s}$\")\n",
    "accel_info = Label(\"Linear acceleration\", \"$a$\", r\"$\\frac{m}{s^2}$\")\n",
    "\n",
    "avel_info = Label(\"Angular velocity\", r\"$\\omega$\", r\"$\\frac{rad}{s}$\")\n",
    "aaccel_info = Label(\"Angular acceleration\", r\"$\\alpha$\", r\"$\\frac{rad}{s^2}$\")\n",
    "\n",
    "force_info = Label(\"Force\", r\"$F$\", r\"$N$\")\n",
    "torque_info = Label(\"Torque\", r\"$\\tau$\", r\"$Nm$\")\n",
    "\n",
    "frequency_info = Label(\"Frequency\", \"$f$\" , r\"$Hz$\")\n",
    "mass_info = Label(\"Mass\", \"$m$\", \"$kg$\")\n",
    "com_info = Label(\"Center of mass\", \"$com$\", \"$m$\")\n",
    "principal_moments_info = Label(\"Prinicipal moments of inertia\", \"$I$\", \"$kg m^2$\")"
   ]
  },
  {
   "cell_type": "code",
   "execution_count": 45,
   "metadata": {},
   "outputs": [],
   "source": [
    "# class PosOriLabeled(PosoriController, Label):\n",
    "#     def __init__(self, pos_des, pos_curr, vel_des, vel_curr, k_vec_pos,ori_des, ori_curr, avel_des, avel_curr, k_vec_ang):\n",
    "        \n",
    "    "
   ]
  },
  {
   "cell_type": "code",
   "execution_count": 46,
   "metadata": {},
   "outputs": [],
   "source": [
    "def DataLoading_ValueAssignmentCartesianTrajectory(datafilename, relative_path):\n",
    "    data_file = datafilename\n",
    "    path = relative_path\n",
    "    path_data_file = path + data_file\n",
    "\n",
    "    file = np.loadtxt(path_data_file,skiprows=2)\n",
    "    pos_task = PosController()\n",
    "    pos_des   = file[0::,0:3]    \n",
    "    pos_curr   = file[0::,3:6]  \n",
    "    vel_des  = file[0::,6:9]     \n",
    "    vel_curr  = file[0::,9:12] \n",
    "    if (len(file[0,:]))> 12:\n",
    "        ori_des = file[0::,12:16]\n",
    "        ori_curr  = file[0::,16:20]\n",
    "        avel_des = file[0::,20:23]\n",
    "        avel_curr = file[0::,23:26]\n",
    "        posori_task = PosOriController(pos_des, pos_curr, vel_des, vel_curr,0, ori_des, ori_curr, avel_des,avel_curr ,0)\n",
    "        return posori_task\n",
    "    if (len(file[0,:])) == 12:\n",
    "        pos_task = PosController(pos_des, pos_curr,0 , vel_des, vel_curr,0 )\n",
    "        return pos_task\n",
    "\n",
    "\n",
    "        "
   ]
  },
  {
   "cell_type": "markdown",
   "metadata": {},
   "source": [
    "#### x-label"
   ]
  },
  {
   "cell_type": "code",
   "execution_count": 47,
   "metadata": {},
   "outputs": [],
   "source": [
    "x_label = \"Time $t$ in $s$\"\n",
    "coordinates = [\"$_x$\",\"$_y$\",\"$_z$\"]"
   ]
  },
  {
   "cell_type": "markdown",
   "metadata": {},
   "source": [
    "#### y-label for joint trajectoy"
   ]
  },
  {
   "cell_type": "code",
   "execution_count": 48,
   "metadata": {
    "code_folding": [
     0
    ]
   },
   "outputs": [],
   "source": [
    "#labels for comparing actual desired\n",
    "\n",
    "joint_angles = ['$q_1$','$q_2$','$q_3$','$q_4$','$q_5$','$q_6$', '$q_7$']\n",
    "joint_angles_des = [r'$q_{1_{\\mathrm{des}}}$','$q_{2_{\\mathrm{des}}}$','$q_{3_{\\mathrm{des}}}$','$q_{4_{\\mathrm{des}}}$','$q_{5_{\\mathrm{des}}}$','$q_{6_{\\mathrm{des}}}$', r'$q_{7_{\\mathrm{des}}}$']\n",
    "y_label_joint_angles = \"Joint angles $q$ in $rad$\"\n",
    "\n",
    "\n",
    "joint_velocities = ['$\\dot{q}_1$','$\\dot{q}_2$','$\\dot{q}_3$','$\\dot{q}_4$','$\\dot{q}_5$','$\\dot{q}_6$', '$\\dot{q}_7$']\n",
    "joint_velocities_des = ['$\\dot{q}_{1_{\\mathrm{des}}}$','$\\dot{q}_{2_{\\mathrm{des}}}$','$\\dot{q}_{3_{\\mathrm{des}}}$','$\\dot{q}_{4_{\\mathrm{des}}}$','$\\dot{q}_{5_{\\mathrm{des}}}$','$\\dot{q}_{6_{\\mathrm{des}}}$', '$\\dot{q}_{7_{\\mathrm{des}}}$']\n",
    "y_label_joint_velocities = r\"Joint velocities $\\dot{q}$ in $\\frac{rad}{s}$\" \n",
    "\n",
    "joint_accelerations = ['$\\ddot{q}_1$','$\\ddot{q}_2$','$\\ddot{q}_3$','$\\ddot{q}_4$','$\\ddot{q}_5$','$\\ddot{q}_6$', '$\\ddot{q}_7$']\n",
    "joint_accelerations_des = ['$\\ddot{q}_{1_{\\mathrm{des}}}$','$\\ddot{q}_{2_{\\mathrm{des}}}$','$\\ddot{q}_{3_{\\mathrm{des}}}$','$\\ddot{q}_{4_{\\mathrm{des}}}$','$\\ddot{q}_{5_{\\mathrm{des}}}$','$\\ddot{q}_{6_{\\mathrm{des}}}$', '$\\ddot{q}_{7_{\\mathrm{des}}}$']\n",
    "y_label_joint_accelerations = r\"Joint accelerations $\\ddot{q}$ in $\\frac{rad}{s^2}$\"    \n",
    "\n",
    "\n",
    "#labels for comparing simulation and hardware\n",
    "joint_angles_simulation = [r'$q_{1_{\\mathrm{simulation}}}$','$q_{2_{\\mathrm{simulation}}}$','$q_{3_{\\mathrm{simulation}}}$','$q_{4_{\\mathrm{simulation}}}$','$q_{5_{\\mathrm{simulation}}}$','$q_{6_{\\mathrm{simulation}}}$', r'$q_{7_{\\mathrm{simulation}}}$']\n",
    "joint_velocities_simulation = ['$\\dot{q}_{1_{\\mathrm{simulation}}}$','$\\dot{q}_{2_{\\mathrm{simulation}}}$','$\\dot{q}_{3_{\\mathrm{simulation}}}$','$\\dot{q}_{4_{\\mathrm{simulation}}}$','$\\dot{q}_{5_{\\mathrm{simulation}}}$','$\\dot{q}_{6_{\\mathrm{simulation}}}$', '$\\dot{q}_{7_{\\mathrm{simulation}}}$']\n",
    "joint_accelerations_simulation = ['$\\ddot{q}_{1_{\\mathrm{simulation}}}$','$\\ddot{q}_{2_{\\mathrm{simulation}}}$','$\\ddot{q}_{3_{\\mathrm{simulation}}}$','$\\ddot{q}_{4_{\\mathrm{simulation}}}$','$\\ddot{q}_{5_{\\mathrm{simulation}}}$','$\\ddot{q}_{6_{\\mathrm{simulation}}}$', '$\\ddot{q}_{7_{\\mathrm{simulation}}}$']\n",
    "\n",
    "joint_angles_hardware = [r'$q_{1_{\\mathrm{hardware}}}$','$q_{2_{\\mathrm{hardware}}}$','$q_{3_{\\mathrm{hardware}}}$','$q_{4_{\\mathrm{hardware}}}$','$q_{5_{\\mathrm{hardware}}}$','$q_{6_{\\mathrm{hardware}}}$', r'$q_{7_{\\mathrm{hardware}}}$']\n",
    "joint_velocities_hardware = ['$\\dot{q}_{1_{\\mathrm{hardware}}}$','$\\dot{q}_{2_{\\mathrm{hardware}}}$','$\\dot{q}_{3_{\\mathrm{hardware}}}$','$\\dot{q}_{4_{\\mathrm{hardware}}}$','$\\dot{q}_{5_{\\mathrm{hardware}}}$','$\\dot{q}_{6_{\\mathrm{hardware}}}$', '$\\dot{q}_{7_{\\mathrm{hardware}}}$']\n",
    "# joint_accelerations_hardware = ['$\\ddot{q}_{1_{\\mathrm{hardware}}}$','$\\ddot{q}_{2_{\\mathrm{hardware}}}$','$\\ddot{q}_{3_{\\mathrm{hardware}}}$','$\\ddot{q}_{4_{\\mathrm{hardware}}}$','$\\ddot{q}_{5_{\\mathrm{hardware}}}$','$\\ddot{q}_{6_{\\mathrm{hardware}}}$', '$\\ddot{q}_{7_{\\mathrm{hardware}}}$']\n"
   ]
  },
  {
   "cell_type": "markdown",
   "metadata": {},
   "source": [
    "### Plotting function definitions"
   ]
  },
  {
   "cell_type": "markdown",
   "metadata": {},
   "source": [
    "#### Align y axis when x shared"
   ]
  },
  {
   "cell_type": "code",
   "execution_count": 49,
   "metadata": {},
   "outputs": [],
   "source": [
    "def align_yaxis(ax1, ax2):\n",
    "    y_lims = np.array([ax.get_ylim() for ax in [ax1, ax2]])\n",
    "\n",
    "    # force 0 to appear on both axes, comment if don't need\n",
    "    y_lims[:, 0] = y_lims[:, 0].clip(None, 0)\n",
    "    y_lims[:, 1] = y_lims[:, 1].clip(0, None)\n",
    "\n",
    "    # normalize both axes\n",
    "    y_mags = (y_lims[:,1] - y_lims[:,0]).reshape(len(y_lims),1)\n",
    "    y_lims_normalized = y_lims / y_mags\n",
    "\n",
    "    # find combined range\n",
    "    y_new_lims_normalized = np.array([np.min(y_lims_normalized), np.max(y_lims_normalized)])\n",
    "\n",
    "    # denormalize combined range to get new axes\n",
    "    new_lim1, new_lim2 = y_new_lims_normalized * y_mags\n",
    "    ax1.set_ylim(new_lim1)\n",
    "    ax2.set_ylim(new_lim2)"
   ]
  },
  {
   "cell_type": "markdown",
   "metadata": {},
   "source": [
    "#### Fouriertransfrom"
   ]
  },
  {
   "cell_type": "code",
   "execution_count": 50,
   "metadata": {
    "code_folding": []
   },
   "outputs": [],
   "source": [
    "def plot_fourier_transform(time, data, frequency, x_lim_min, x_lim_max):\n",
    "    \n",
    "    Fs = frequency\n",
    "    Ts = 1.0 / Fs\n",
    "    t = time\n",
    "    n = len(data)\n",
    "    k = np.arange(n)\n",
    "    T = n/Fs\n",
    "    frq_two_sides = k/T\n",
    "    frq_one_side = frq_two_sides[range(int(n/2.0))]\n",
    "    Y = np.fft.fft(data)/n\n",
    "    Y = Y[range(int(n/2.0))]\n",
    "    \n",
    "    plt.figure(figsize=(6,7))\n",
    "\n",
    "    plt.plot(frq_one_side,abs(Y),c=blue,linewidth=2.0 ) # plotting the spectrum\n",
    "    plt.grid(True)\n",
    "    plt.xlabel(frequency_info.name + \" \"  + frequency_info.abbreviation + \" in \" + frequency_info.unit)\n",
    "    plt.xlim([x_lim_min, x_lim_max])\n",
    "    plt.ylabel(\"Power Spectral Density\")\n",
    "    \n",
    "\n",
    "\n",
    "   "
   ]
  },
  {
   "cell_type": "code",
   "execution_count": 51,
   "metadata": {},
   "outputs": [],
   "source": [
    "def plot_fourier_transform_xyz(time, data, frequency, x_lim_min, x_lim_max,y_lim_max ):\n",
    "    coordinates = [\"$_x$\",\"$_y$\",\"$_z$\"]\n",
    "    Fs = frequency\n",
    "    Ts = 1.0 / Fs\n",
    "    t = time\n",
    "    n = len(data[:,0])\n",
    "    k = np.arange(n)\n",
    "    T = n/Fs\n",
    "    f, axarr = plt.subplots(1,3,figsize=(15,5))\n",
    "    for idx,ax in enumerate(axarr):\n",
    "        frq_two_sides = k/T\n",
    "        frq_one_side = frq_two_sides[range(int(n/2.0))]\n",
    "        Y = np.fft.fft(data[:,idx])/n\n",
    "        Y = Y[range(int(n/2.0))]\n",
    "        ax.plot(frq_one_side,abs(Y), c=color_list[idx], linewidth=2.0, label = frequency_info.abbreviation + str(coordinates[idx])) \n",
    "        ax.set_xlabel(frequency_info.name + \" \"  + frequency_info.abbreviation + \" in \" + frequency_info.unit)\n",
    "        ax.set_ylabel(\"Power Spectral Density\")\n",
    "        ax.set_xlim([x_lim_min, x_lim_max])\n",
    "        ax.set_ylim([0,y_lim_max])\n",
    "        ax.grid(True)\n",
    "        ax.legend(loc=0)\n",
    "    f.tight_layout()"
   ]
  },
  {
   "cell_type": "markdown",
   "metadata": {},
   "source": [
    "#### Joint trajectories"
   ]
  },
  {
   "cell_type": "code",
   "execution_count": 52,
   "metadata": {
    "code_folding": [
     25
    ]
   },
   "outputs": [],
   "source": [
    "def joint_angles_compare(time, axis, angles, angles_des, derivative):\n",
    "    plt.figure(figsize=(9,7))\n",
    "    if derivative == 0:\n",
    "        joint_lables= joint_angles\n",
    "        joint_lables_des= joint_angles_des\n",
    "        y_label = y_label_joint_angles\n",
    "    if derivative == 1:\n",
    "        joint_lables= joint_velocities\n",
    "        joint_lables_des= joint_velocities_des\n",
    "        y_label = y_label_joint_velocities\n",
    "    if derivative == 2:\n",
    "        joint_lables= joint_accelerations\n",
    "        joint_lables_des= joint_accelerations_des\n",
    "        y_label = y_label_joint_accelerations\n",
    "    joint_lables = joint_lables[7-axis::]\n",
    "    joint_lables_des = joint_lables_des[7-axis::]\n",
    "    for i, lable_q, in enumerate(joint_lables):\n",
    "        plt.plot(time, angles[:, i], c = color_list[i], label = lable_q, linewidth=2.0 )\n",
    "        plt.plot(time, angles_des[:, i], c=color_list[i], label = joint_lables_des[i] , linewidth=2.0, linestyle = '--')\n",
    "        plt.xlabel(x_label)\n",
    "        plt.ylabel(y_label)\n",
    "        plt.xlim(0, time[-1])\n",
    "        plt.grid(True)\n",
    "        plt.legend()\n",
    "        \n",
    "def joint_angles_sim_hard(axis, time_sim, angles_sim, time_hardware, angles_hardware, derivative):\n",
    "    if derivative == 0:\n",
    "        joint_lables_sim = joint_angles_simulation\n",
    "        joint_lables_hw = joint_angles_hardware\n",
    "        y_label = y_label_joint_angles\n",
    "    if derivative == 1:\n",
    "        joint_lables_sim = joint_velocities_simulation\n",
    "        joint_lables_hw = joint_velocities_hardware\n",
    "        y_label = y_label_joint_velocities    \n",
    "    joint_lables_sim = joint_lables_sim[7-axis::]\n",
    "    joint_lables_hw = joint_lables_hw[7-axis::]\n",
    "    f, axarr = plt.subplots(1,2,figsize=(15,9))\n",
    "    for i, lable_sim, in enumerate(joint_lables_sim):\n",
    "        axarr[0].plot(time_sim, angles_sim[:, i], c = color_list[i], label = lable_sim, linewidth=2.0 )\n",
    "        axarr[0].set_xlim([0, time_sim[-1]])\n",
    "        axarr[0].set_ylabel(y_label)\n",
    "        axarr[0].grid(True)\n",
    "        axarr[0].legend()\n",
    "    for i, lable_hw in enumerate(joint_lables_hw):\n",
    "        axarr[1].plot(time_hardware, angles_hardware[:, i], c = color_list[i], label = lable_hw, linewidth=2.0 )\n",
    "        axarr[1].set_xlim([0, time_hardware[-1]])\n",
    "        axarr[1].set_ylabel(y_label)\n",
    "        axarr[1].grid(True)\n",
    "        axarr[1].legend()\n",
    "    axarr[0].set_xlabel(x_label)\n",
    "    axarr[1].set_xlabel(x_label)"
   ]
  },
  {
   "cell_type": "markdown",
   "metadata": {},
   "source": [
    "#### Three dimensional variables"
   ]
  },
  {
   "cell_type": "code",
   "execution_count": 53,
   "metadata": {
    "code_folding": []
   },
   "outputs": [],
   "source": [
    "def xyz(time, data, variable_name, variable_abbreviation, variable_unit):\n",
    "    plt.figure(figsize=(9,7))\n",
    "    coordinates = [\"$_x$\",\"$_y$\",\"$_z$\"]\n",
    "    for idx, coordinate in enumerate(coordinates):\n",
    "        plt.plot(time, data[:,idx], c = color_list[idx], label = variable_abbreviation + str(coordinate),  linewidth=2.0)\n",
    "        plt.xlabel(x_label)\n",
    "        plt.ylabel(variable_name + \" \" + variable_abbreviation + \" in \" + variable_unit)\n",
    "        plt.xlim(0, time[-1])\n",
    "        plt.grid(True)\n",
    "        plt.legend()\n",
    "        \n",
    "def xyz_obj(time, data, object_info):\n",
    "    plt.figure(figsize=(9,7))\n",
    "    coordinates = [\"$_x$\",\"$_y$\",\"$_z$\"]\n",
    "    for idx, coordinate in enumerate(coordinates):\n",
    "        plt.plot(time, data[:,idx], c = color_list[idx], label = object_info.abbreviation + str(coordinate),  linewidth=2.0)\n",
    "        plt.xlabel(x_label)\n",
    "        plt.ylabel(object_info.name + \" \" + object_info.abbreviation + \" in \" + object_info.unit)\n",
    "        plt.xlim(0, time[-1])\n",
    "        plt.grid(True)\n",
    "        plt.legend()\n",
    "\n",
    "def xyz_subplots_three_inputs_two_axes(time, data_1, data_2, data_3, object_info1,object_info2,label_list):\n",
    "    f, axarr = plt.subplots(3,1,figsize=(15,15))\n",
    "    coordinates = [\"$_x$\",\"$_y$\",\"$_z$\"]\n",
    "    for idx,ax in enumerate(axarr):\n",
    "        ax2 = ax.twinx()\n",
    "        ax2.plot(time, data_3[:,idx], c=color_list[2], linewidth=2.0, label = object_info2.abbreviation + str(coordinates[idx]) + \" \" + label_list[1])\n",
    "        ax.plot(time, data_1[:,idx], c=color_list[0], linewidth=2.0, label = object_info1.abbreviation + str(coordinates[idx]) )\n",
    "        ax.set_xlim([0, time[-1]])\n",
    "        ax.set_ylabel(object_info1.name + \" \" + object_info1.abbreviation + \" in \" + object_info1.unit)\n",
    "        ax.grid(True)\n",
    "        ax.set_xlabel(x_label)\n",
    "        ax2.plot(time, data_2[:,idx], c=color_list[1], linewidth=2.0, label = object_info2.abbreviation + str(coordinates[idx]) + \" \" + label_list[0]) \n",
    "        ax2.set_ylabel(object_info2.name + \" \" + object_info2.abbreviation + \" in \" + object_info2.unit)\n",
    "        lines, labels = ax.get_legend_handles_labels()\n",
    "        lines2, labels2 = ax2.get_legend_handles_labels()\n",
    "        ax2.legend(lines + lines2, labels + labels2, loc=0)\n",
    "        align_yaxis(ax, ax2)\n",
    "    f.tight_layout()\n",
    "    \n",
    "def xyz_subplots_two_inputs_two_axes(time, data_1, data_2, object_info1,object_info2 ,label_list):\n",
    "    f, axarr = plt.subplots(3,1,figsize=(15,15))\n",
    "    coordinates = [\"$_x$\",\"$_y$\",\"$_z$\"]\n",
    "    for idx,ax in enumerate(axarr):\n",
    "        ax2 = ax.twinx()\n",
    "        ax.plot(time, data_1[:,idx], c=color_list[0], linewidth=2.0, label = object_info1.abbreviation + str(coordinates[idx])+ \" \" + label_list[0])\n",
    "        ax.set_xlim([0, time[-1]])\n",
    "        ax.set_ylabel(object_info1.name + \" \" + object_info1.abbreviation + \" in \" + object_info1.unit)\n",
    "        ax.grid(True)\n",
    "        ax.set_xlabel(x_label)\n",
    "        ax2.plot(time, data_2[:,idx], c=color_list[1], linewidth=2.0, label = object_info2.abbreviation + str(coordinates[idx]) + \" \" + label_list[1]) \n",
    "        ax2.set_ylabel(object_info2.name + \" \" + object_info2.abbreviation + \" in \" + object_info2.unit)\n",
    "        lines, labels = ax.get_legend_handles_labels()\n",
    "        lines2, labels2 = ax2.get_legend_handles_labels()\n",
    "        ax2.legend(lines + lines2, labels + labels2, loc=0)\n",
    "        align_yaxis(ax, ax2)\n",
    "    f.tight_layout()\n",
    "    \n",
    "def xyz_subplots_two_inputs(time, data_1, data_2, object_info,label_list):\n",
    "    f, axarr = plt.subplots(3,1,figsize=(15,15))\n",
    "    coordinates = [\"$_x$\",\"$_y$\",\"$_z$\"]\n",
    "    for idx,ax in enumerate(axarr):\n",
    "        ax.plot(time, data_1[:,idx], c=color_list[0], linewidth=2.0, label = object_info.abbreviation + str(coordinates[idx]) + \" \" + label_list[0])\n",
    "        ax.set_xlim([0, time[-1]])\n",
    "        ax.set_ylabel(object_info.name + \" \" + object_info.abbreviation + \" in \" + object_info.unit)\n",
    "        ax.set_xlabel(x_label)\n",
    "        ax.grid(True)\n",
    "        ax.plot(time, data_2[:,idx], c=color_list[1], linewidth=2.0, label = object_info.abbreviation + str(coordinates[idx]) + \" \" + label_list[1]) \n",
    "        lines, labels = ax.get_legend_handles_labels()\n",
    "        ax.legend(lines , labels , loc=0)\n",
    "    f.tight_layout()\n",
    "    \n",
    "def xyz_subplots_three_inputs(time, data_1, data_2,data_3, object_info,label_list):\n",
    "    f, axarr = plt.subplots(3,1,figsize=(15,15))\n",
    "    coordinates = [\"$_x$\",\"$_y$\",\"$_z$\"]\n",
    "    for idx,ax in enumerate(axarr):\n",
    "        ax.plot(time, data_1[:,idx], c=color_list[0], linewidth=2.0, label = object_info.abbreviation + str(coordinates[idx]) + \" \" + label_list[0])\n",
    "        ax.plot(time, data_2[:,idx], c=color_list[1], linewidth=2.0, label = object_info.abbreviation + str(coordinates[idx]) + \" \" + label_list[1]) \n",
    "        ax.plot(time, data_3[:,idx], c=color_list[2], linewidth=2.0, label = object_info.abbreviation + str(coordinates[idx]) + \" \" + label_list[2]) \n",
    "        ax.set_xlim([0, time[-1]])\n",
    "        ax.set_ylabel(object_info.name + \" \" + object_info.abbreviation + \" in \" + object_info.unit)\n",
    "        ax.set_xlabel(x_label)\n",
    "        lines, labels = ax.get_legend_handles_labels()\n",
    "        ax.grid(True)\n",
    "        ax.legend(lines , labels , loc=0)\n",
    "    f.tight_layout()\n",
    "    \n",
    "# def xyz_subplots_four_inputs(time, data_1, data_2,data_3, data_4, object_info,label_list):\n",
    "def xyz_subplots_four_inputs(time, data_1, data_2,data_3, data_4, object_info,label_list):\n",
    "    f, axarr = plt.subplots(3,1,figsize=(15,15))\n",
    "    coordinates = [\"$_x$\",\"$_y$\",\"$_z$\"]\n",
    "    for idx,ax in enumerate(axarr):\n",
    "        ax.plot( data_1[:,idx], c=color_list[0], linewidth=2.0, label = object_info.abbreviation + str(coordinates[idx]) + \" \" + label_list[0])\n",
    "        ax.plot( data_2[:,idx], c=color_list[1], linewidth=2.0, label = object_info.abbreviation + str(coordinates[idx]) + \" \" + label_list[1]) \n",
    "        ax.plot( data_3[:,idx], c=color_list[2], linewidth=2.0, label = object_info.abbreviation + str(coordinates[idx]) + \" \" + label_list[2]) \n",
    "        ax.plot( data_4[:,idx], c=color_list[3], linewidth=2.0, label = object_info.abbreviation + str(coordinates[idx]) + \" \" + label_list[3]) \n",
    "#         ax.set_xlim([0, time[-1]])\n",
    "        ax.set_ylabel(object_info.name + \" \" + object_info.abbreviation + \" in \" + object_info.unit)\n",
    "        ax.set_xlabel(x_label)\n",
    "        lines, labels = ax.get_legend_handles_labels()\n",
    "        ax.grid(True)\n",
    "        ax.legend(lines , labels , loc=0)\n",
    "    f.tight_layout()\n",
    "    "
   ]
  },
  {
   "cell_type": "markdown",
   "metadata": {},
   "source": [
    "#### Estimated inertial parameters"
   ]
  },
  {
   "cell_type": "code",
   "execution_count": 54,
   "metadata": {},
   "outputs": [],
   "source": [
    "def Plot_intertial_params_one_error(time, data,  real_values):\n",
    "    f, axarr = plt.subplots(10,1,figsize=(6,15))\n",
    "    params = ['Mass in $kg$', 'COM_x in $m$','COM_y in $m$', 'COM_z in $m$', '$I_{xx}$','$I_{xy}$', '$I_{xz}$','$I_{yy}$','$I_{yz}$','$I_{zz}$']\n",
    "    if 0 in data[:,0]: \n",
    "        data[:,1] = 0\n",
    "        data[:,2] = 0\n",
    "        data[:,3] = 0\n",
    "    else:\n",
    "        data[:,1] /= data[:,0]\n",
    "        data[:,2] /= data[:,0]\n",
    "        data[:,3] /= data[:,0]\n",
    "    mse = np.empty_like(data)\n",
    "    for idx,value in enumerate(real_values):                           #for all 10 inertial params  \n",
    "        for i in np.arange(np.size(data[:,0])):                       #elementwise \n",
    "            mse[i,idx] = (np.square(data[i,idx] - value)).mean(axis=None)\n",
    "    for idx, param in enumerate(params):\n",
    "        axarr[idx].plot(time, mse[:,idx], c=blue)\n",
    "        axarr[idx].set_title(param)\n",
    "        axarr[idx].set_xlim([0, time[-1]])\n",
    "    axarr[9].set_xlabel(x_label)\n",
    "    plt.setp([a.get_xticklabels() for a in f.axes[:-1]], visible=False)\n",
    "    plt.tight_layout()\n",
    "    \n",
    "def Plot_intertial_params_one(time, data, real_values):\n",
    "    f, axarr = plt.subplots(4,1,figsize=(6,15))\n",
    "    params = ['Mass in $kg$', 'COM_x in $m$','COM_y in $m$', 'COM_z in $m$', '$I_{xx}$','$I_{xy}$', '$I_{xz}$','$I_{yy}$','$I_{yz}$','$I_{zz}$']\n",
    "    if 0 in data[:,0]: \n",
    "        data[:,1] = 0\n",
    "        data[:,2] = 0\n",
    "        data[:,3] = 0\n",
    "    else:\n",
    "        data[:,1] /= data[:,0]\n",
    "        data[:,2] /= data[:,0]\n",
    "        data[:,3] /= data[:,0]\n",
    "    mass = data[:,0]\n",
    "    com = data[:,1:4]\n",
    "    com_label = [\"$c_x$\",\"$c_y$\",\"$c_z$\"]\n",
    "    com_real = np.arange(real_values[1],real_values[2],real_values[3])\n",
    "    princip = principal_moments(phi_RLS) \n",
    "    princip_real = np.arange(real_values[4],real_values[7],real_values[9])\n",
    "    princip_label = [\"$I_{xx}$\",\"$I_{yy}$\",\"$I_{zz}$\"]\n",
    "    for index, number in enumerate(data[:,0]):\n",
    "        if number != 0:\n",
    "            x_lim_min = index/1000\n",
    "            break\n",
    "    for idx in np.arange(3):\n",
    "        axarr[idx].set_title(params[idx])\n",
    "        axarr[idx].set_xlim([x_lim_min, time[-1]])\n",
    "        axarr[idx].axhline(real_values[idx], c=red)\n",
    "    axarr[0].plot(time, mass, c = blue)\n",
    "    axarr[0].set_ylabel(mass_info.name + \" \" + mass_info.abbreviation + \" in \" + mass_info.unit)\n",
    "    axarr[0].axhline(real_values[0], c = blue , linestyle = \"--\")\n",
    "    for i in np.arange(3):\n",
    "        axarr[1].plot(time, com[:,i], c = color_list[i], label = com_info.abbreviation + str(coordinates[i]),linewidth=2.0)\n",
    "        axarr[1].axhline(com_real[i], c=color_list[i], linestyle = \"--\")\n",
    "        axarr[2].plot(time, princip[:,i], c = color_list[i], label = princip_label[i],linewidth=2.0)\n",
    "        axarr[2].axhline(princip_real[i], c=color_list[i], linestyle = \"--\")\n",
    "    axarr[1].set_ylabel(com_info.name + \" \" + com_info.abbreviation + \" in \" + com_info.unit)\n",
    "    axarr[2].set_ylabel(principal_moments_info.name + \" \" + principal_moments_info.abbreviation + \" in \" + principal_moments_info.unit)\n",
    "    plt.setp([a.get_xticklabels() for a in f.axes[:-1]], visible=False)\n",
    "    plt.tight_layout()\n",
    "    plt.subplots_adjust(top=0.9)"
   ]
  },
  {
   "cell_type": "markdown",
   "metadata": {},
   "source": [
    "#### Comparing Simulation and hardware"
   ]
  },
  {
   "cell_type": "code",
   "execution_count": 55,
   "metadata": {
    "code_folding": [
     0
    ]
   },
   "outputs": [],
   "source": [
    "def sim_hard(time_sim, data_sim, time_hardware, data_hardware,variable_name, variable_abbreviation, variable_unit,label_1, label_2 , plot_quantity):\n",
    "    if plot_quantity ==1:\n",
    "        f, axarr = plt.subplots(1,2,figsize=(15,9))\n",
    "        coordinates = [\"$_x$\",\"$_y$\",\"$_z$\"]\n",
    "        for idx,coordinate in enumerate(coordinates):\n",
    "            axarr[0].plot(time_sim, data_sim[:,idx], c=color_list[idx], linewidth=2.0, label = variable_abbreviation + str(coordinate) + \" \" + label_1)\n",
    "            axarr[0].set_xlim([0, time_sim[-1]])\n",
    "            axarr[0].set_ylabel(variable_name + \" \" + variable_abbreviation + \" in \" + variable_unit)\n",
    "            axarr[0].grid(True)\n",
    "            axarr[0].legend()\n",
    "        for idx,coordinate in enumerate(coordinates):\n",
    "            axarr[1].plot(time_hardware, data_hardware[:,idx], c=color_list[idx], linewidth=2.0, label = variable_abbreviation + str(coordinate) + \" \" + label_2)\n",
    "            axarr[1].set_xlim([0, time_hardware[-1]])\n",
    "            axarr[1].set_ylabel(variable_name + \" \" + variable_abbreviation + \" in \" + variable_unit)\n",
    "            axarr[1].grid(True)\n",
    "            axarr[1].legend()\n",
    "        axarr[0].set_xlabel(x_label)\n",
    "        axarr[1].set_xlabel(x_label)\n",
    "        plt.tight_layout()\n",
    "        plt.subplots_adjust(top=0.9)\n",
    "        \n",
    "    if plot_quantity == 3:\n",
    "        f, axarr = plt.subplots(3,2,figsize=(15,9))\n",
    "        coordinates = [\"$_x$\",\"$_y$\",\"$_z$\"]\n",
    "        for idx,coordinate in enumerate(coordinates):\n",
    "            axarr[idx,0].plot(time_sim, data_sim[:,idx], c=color_list[idx], linewidth=2.0, label = variable_abbreviation + str(coordinate) + \" \" + label_1)\n",
    "            axarr[idx,0].set_xlim([0, time_sim[-1]])\n",
    "            axarr[idx,0].set_ylabel(variable_name + \" \" + variable_abbreviation + \" in \" + variable_unit)\n",
    "            axarr[idx,0].grid(True)\n",
    "            axarr[idx,0].legend()\n",
    "        for idx,coordinate in enumerate(coordinates):\n",
    "            axarr[idx,1].plot(time_hardware, data_hardware[:,idx], c=color_list[idx], linewidth=2.0, label = variable_abbreviation + str(coordinate) + \" \" + label_2)\n",
    "            axarr[idx,1].set_xlim([0, time_hardware[-1]])\n",
    "            axarr[idx,1].set_ylabel(variable_name + \" \" + variable_abbreviation + \" in \" + variable_unit)\n",
    "            axarr[idx,1].grid(True)\n",
    "            axarr[idx,1].legend()\n",
    "        axarr[2,0].set_xlabel(x_label)\n",
    "        axarr[2,1].set_xlabel(x_label)\n",
    "        plt.setp([a.get_xticklabels() for a in axarr[0, :]], visible=False)\n",
    "        plt.tight_layout()\n",
    "        plt.subplots_adjust(top=0.9)"
   ]
  },
  {
   "cell_type": "markdown",
   "metadata": {},
   "source": [
    "#### Force and Torque"
   ]
  },
  {
   "cell_type": "code",
   "execution_count": 56,
   "metadata": {
    "code_folding": [
     0
    ]
   },
   "outputs": [],
   "source": [
    "def force_torque(time, data_1, data_2):\n",
    "    f, axarr = plt.subplots(3,2,figsize=(15,9))\n",
    "    coordinates = [\"$_x$\",\"$_y$\",\"$_z$\"]\n",
    "    for idx,coordinate in enumerate(coordinates):\n",
    "        axarr[idx,0].plot(time, data_1[:,idx], c=color_list[idx], linewidth=2.0)\n",
    "        axarr[idx,0].set_xlim([0, time[-1]])\n",
    "        axarr[idx,0].set_ylabel(\"$F$\"+str(coordinate)+\" in \" \"$N$\")\n",
    "        axarr[idx,0].grid(True)\n",
    "    for idx,coordinate in enumerate(coordinates):\n",
    "        axarr[idx,1].plot(time, data_2[:,idx], c=color_list[idx], linewidth=2.0)\n",
    "        axarr[idx,1].set_xlim([0, time[-1]])\n",
    "        axarr[idx,1].set_ylabel(r\"$\\tau$\"+str(coordinate)+\" in \" \"$Nm$\")\n",
    "        axarr[idx,1].grid(True)\n",
    "    axarr[2,0].set_xlabel(x_label)\n",
    "    axarr[2,1].set_xlabel(x_label)\n",
    "    plt.setp([a.get_xticklabels() for a in axarr[0, :]], visible=False)\n",
    "    plt.tight_layout()\n",
    "    plt.subplots_adjust(top=0.9)"
   ]
  },
  {
   "cell_type": "markdown",
   "metadata": {},
   "source": [
    "#### Gain Tuning"
   ]
  },
  {
   "cell_type": "code",
   "execution_count": 57,
   "metadata": {},
   "outputs": [],
   "source": [
    "def plot(time, info, *args):\n",
    "    f, axarr = plt.subplots(3,1,figsize=(15,15))        \n",
    "    for ax in axarr:\n",
    "        for idx, data in enumerate(*args):\n",
    "            ax.plot(time, data[:,idx], c=color_list[0], linewidth=2.0, label = \"desired\")\n",
    "            ax.plot(time, data[:,idx], c=color_list[1], linewidth=2.0, label = \"current, kp = \"+ controller.kp_pos +\", kv = \"+ controller.kv_pos + \" ki = \"+ controller.ki_pos) \n",
    "            ax.set_xlim([0, time[-1]])\n",
    "            ax.set_ylabel(object_info.name + \" \" + object_info.abbreviation + \" in \" + object_info.unit)\n",
    "            ax.set_xlabel(x_label)\n",
    "            lines, labels = ax.get_legend_handles_labels()\n",
    "            ax.grid(True)\n",
    "            ax.legend(lines , labels , loc=0)\n",
    "    f.tight_layout()"
   ]
  },
  {
   "cell_type": "code",
   "execution_count": 58,
   "metadata": {},
   "outputs": [],
   "source": [
    "def posori_plot(time,var_type, *args):\n",
    "    f, axarr = plt.subplots(3,1,figsize=(15,15))\n",
    "    data_label = [\"desired\", \"current, kp = \"+ controller.kp_pos +\", kv = \"+ controller.kv_pos + \" ki = \"+ controller.ki_pos]\n",
    "    if var_type == \"pos\":\n",
    "        \n",
    "        for ax in axarr:\n",
    "            for idx, controller in enumerate(*args):\n",
    "                ax.plot(time, controller.pos_des[:,idx], c=color_list[0], linewidth=2.0, label = data_label[0])\n",
    "                ax.plot(time, controller.pos_curr[:,idx], c=color_list[1], linewidth=2.0, label = data_label[1]) \n",
    "                ax.set_xlim([0, time[-1]])\n",
    "                ax.set_ylabel(pos_info.name + \" \" +pos_info.abbreviation + \" in \" + pos_info.unit)\n",
    "                ax.set_xlabel(x_label)\n",
    "                lines, labels = ax.get_legend_handles_labels()\n",
    "                ax.grid(True)\n",
    "                ax.legend(lines , labels , loc=0)\n",
    "        f.tight_layout()\n",
    "    if var_type == \"vel\":\n",
    "\n",
    "        for ax in axarr:\n",
    "            for idx, controller in enumerate(*args):\n",
    "                ax.plot(time, controller.vel_des[:,idx], c=color_list[0], linewidth=2.0, label = data_label[0])\n",
    "                ax.plot(time, controller.vel_curr[:,idx], c=color_list[1], linewidth=2.0, label = data_label[1]) \n",
    "                ax.set_xlim([0, time[-1]])\n",
    "                ax.set_ylabel(pos_info.name + \" \" +pos_info.abbreviation + \" in \" + pos_info.unit)\n",
    "                ax.set_xlabel(x_label)\n",
    "                lines, labels = ax.get_legend_handles_labels()\n",
    "                ax.grid(True)\n",
    "                ax.legend(lines , labels , loc=0)\n",
    "        f.tight_layout()\n",
    "    \n",
    "\n",
    "    "
   ]
  }
 ],
 "metadata": {
  "kernelspec": {
   "display_name": "Python 3",
   "language": "python",
   "name": "python3"
  },
  "language_info": {
   "codemirror_mode": {
    "name": "ipython",
    "version": 3
   },
   "file_extension": ".py",
   "mimetype": "text/x-python",
   "name": "python",
   "nbconvert_exporter": "python",
   "pygments_lexer": "ipython3",
   "version": "3.5.2"
  },
  "toc": {
   "base_numbering": 1,
   "nav_menu": {},
   "number_sections": true,
   "sideBar": true,
   "skip_h1_title": false,
   "title_cell": "Table of Contents",
   "title_sidebar": "Contents",
   "toc_cell": false,
   "toc_position": {},
   "toc_section_display": true,
   "toc_window_display": false
  }
 },
 "nbformat": 4,
 "nbformat_minor": 2
}
