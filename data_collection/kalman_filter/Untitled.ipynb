{
 "cells": [
  {
   "cell_type": "code",
   "execution_count": 7,
   "metadata": {},
   "outputs": [
    {
     "ename": "IndentationError",
     "evalue": "unindent does not match any outer indentation level (<tokenize>, line 47)",
     "output_type": "error",
     "traceback": [
      "\u001b[0;36m  File \u001b[0;32m\"<tokenize>\"\u001b[0;36m, line \u001b[0;32m47\u001b[0m\n\u001b[0;31m    plt.title(title)\u001b[0m\n\u001b[0m    ^\u001b[0m\n\u001b[0;31mIndentationError\u001b[0m\u001b[0;31m:\u001b[0m unindent does not match any outer indentation level\n"
     ]
    }
   ],
   "source": [
    "\n",
    "#!/usr/bin/env python3\n",
    "\n",
    "# read text files and plot them\n",
    "\n",
    "import matplotlib.pyplot as plt\n",
    "import numpy as np\n",
    "import sys\n",
    "from scipy import signal, fftpack\n",
    "\n",
    "file = np.loadtxt(\"data_file_03-10-19_20-53-50\" ,skiprows=1)\n",
    "#print(file)\n",
    "pos = file[1::,0:3]\n",
    "vel = file[1::,3:6]\n",
    "acc = file[1::,6:9]\n",
    "kf_pos = file[1::,9:12]\n",
    "kf_vel = file[1::,12:15]\n",
    "kf_acc = file[1::,15:18]\n",
    "acc_raw = file[1::,18:21]\n",
    "g_local = file[1::,21:24]\n",
    "\n",
    "time = np.arange(np.size(pos[:,0]))\n",
    "time = time/1000\n",
    "\n",
    "\n",
    "#TUM colors rgb\n",
    "blue = (0,0.3961,0.7412)\n",
    "red = (0.7686,0.0275,0.1059)\n",
    "green =(0,0.4863,0.1882)\n",
    "orange =  (0.8902, 0.4471, 0.1333)\n",
    "purple = (0.4118, 0.0314, 0.3529)\n",
    "grey = (0.6118, 0.6157, 0.6235)\n",
    "yellow = (0.9765, 0.7294, 0)\n",
    "#turquoise = (0, 0.4667, 0.5412) \n",
    "\n",
    "colors = blue, red, green, orange, purple, grey, yellow\n",
    "\n",
    "\n",
    "def PlotNoLimOne(time, F_x1, F_y1, F_z1, label_name_x1,label_name_y1, label_name_z1, axis_label_x, axis_label_y,title):\n",
    "\tplt.figure()\n",
    "\tplt.plot(time, F_x1, c=blue, label = label_name_x1)\n",
    "\tplt.plot(time, F_y1, c=red, label = label_name_y1)\n",
    "\tplt.plot(time, F_z1, c=green, label = label_name_z1)\n",
    "\tplt.xlabel(axis_label_x)\n",
    "\tplt.ylabel(axis_label_y)\n",
    "\tplt.xlim(xmin=0)\n",
    "    plt.title(title)\n",
    "\tplt.legend()\n",
    "\n",
    "\n",
    "def PlotCompare(counter, time, x_1, x_2, y_1, y_2, z_1, z_2, title_1, title_2, title_3, label_1, label_2,title, savename):\n",
    "\tplt.figure(counter, figsize=(7,8))\n",
    "\tplt.title(title)\n",
    "\tplt.subplot(311)\n",
    "\tplt.tight_layout()\n",
    "\tplt.plot(time, x_1, c=blue, label= label_1)\n",
    "\tplt.plot(time, x_2, c=red, label= label_2)\n",
    "\tplt.title(title_1)\n",
    "\tplt.legend()\n",
    "\t# plt.xlabel(\"Elapsed time in s\")\n",
    "\tplt.subplot(312)\n",
    "\tplt.tight_layout()\n",
    "\tplt.plot(time, y_1, c=blue, label= label_1)\n",
    "\tplt.plot(time, y_2, c=red, label= label_2)\n",
    "\tplt.title(title_2)\n",
    "\tplt.legend()\n",
    "\t# plt.xlabel(\"Elapsed time in s\")\n",
    "\tplt.subplot(313)\n",
    "\tplt.tight_layout()\n",
    "\tplt.plot(time, z_1, c=blue, label= label_1)\n",
    "\tplt.plot(time, z_2, c=red, label= label_2)\n",
    "\tplt.title(title_3)\n",
    "\tplt.legend()\n",
    "\tplt.savefig(savename)\n",
    "\n"
   ]
  },
  {
   "cell_type": "code",
   "execution_count": 5,
   "metadata": {},
   "outputs": [
    {
     "ename": "TypeError",
     "evalue": "PlotNoLimOne() takes 9 positional arguments but 10 were given",
     "output_type": "error",
     "traceback": [
      "\u001b[0;31m---------------------------------------------------------------------------\u001b[0m",
      "\u001b[0;31mTypeError\u001b[0m                                 Traceback (most recent call last)",
      "\u001b[0;32m<ipython-input-5-4313fec9ce05>\u001b[0m in \u001b[0;36m<module>\u001b[0;34m\u001b[0m\n\u001b[0;32m----> 1\u001b[0;31m \u001b[0mPlotNoLimOne\u001b[0m\u001b[0;34m(\u001b[0m\u001b[0mtime\u001b[0m\u001b[0;34m,\u001b[0m \u001b[0macc\u001b[0m\u001b[0;34m[\u001b[0m\u001b[0;34m:\u001b[0m\u001b[0;34m,\u001b[0m\u001b[0;36m0\u001b[0m\u001b[0;34m]\u001b[0m\u001b[0;34m,\u001b[0m \u001b[0macc\u001b[0m\u001b[0;34m[\u001b[0m\u001b[0;34m:\u001b[0m\u001b[0;34m,\u001b[0m\u001b[0;36m1\u001b[0m\u001b[0;34m]\u001b[0m\u001b[0;34m,\u001b[0m  \u001b[0macc\u001b[0m\u001b[0;34m[\u001b[0m\u001b[0;34m:\u001b[0m\u001b[0;34m,\u001b[0m\u001b[0;36m2\u001b[0m\u001b[0;34m]\u001b[0m\u001b[0;34m,\u001b[0m \u001b[0;34m\"Sensor data in x\"\u001b[0m\u001b[0;34m,\u001b[0m \u001b[0;34m\"Sensor data in y\"\u001b[0m\u001b[0;34m,\u001b[0m \u001b[0;34m\"Sensor data in z\"\u001b[0m\u001b[0;34m,\u001b[0m \u001b[0;34m\"Elapsed time in s\"\u001b[0m\u001b[0;34m,\u001b[0m \u001b[0;34m\"Acceleration in m/s^2\"\u001b[0m\u001b[0;34m,\u001b[0m \u001b[0;34m\"Sensor data in m/s^2 with respect to last link frame\"\u001b[0m\u001b[0;34m)\u001b[0m\u001b[0;34m\u001b[0m\u001b[0m\n\u001b[0m\u001b[1;32m      2\u001b[0m \u001b[0mPlotNoLimOne\u001b[0m\u001b[0;34m(\u001b[0m\u001b[0mtime\u001b[0m\u001b[0;34m,\u001b[0m \u001b[0mg_local\u001b[0m\u001b[0;34m[\u001b[0m\u001b[0;34m:\u001b[0m\u001b[0;34m,\u001b[0m\u001b[0;36m0\u001b[0m\u001b[0;34m]\u001b[0m\u001b[0;34m,\u001b[0m \u001b[0mg_local\u001b[0m\u001b[0;34m[\u001b[0m\u001b[0;34m:\u001b[0m\u001b[0;34m,\u001b[0m\u001b[0;36m1\u001b[0m\u001b[0;34m]\u001b[0m\u001b[0;34m,\u001b[0m  \u001b[0mg_local\u001b[0m\u001b[0;34m[\u001b[0m\u001b[0;34m:\u001b[0m\u001b[0;34m,\u001b[0m\u001b[0;36m2\u001b[0m\u001b[0;34m]\u001b[0m\u001b[0;34m,\u001b[0m \u001b[0;34m\"Gravity in x\"\u001b[0m\u001b[0;34m,\u001b[0m \u001b[0;34m\"Gravity in y\"\u001b[0m\u001b[0;34m,\u001b[0m \u001b[0;34m\"Gravity in z\"\u001b[0m\u001b[0;34m,\u001b[0m \u001b[0;34m\"Elapsed time in s\"\u001b[0m\u001b[0;34m,\u001b[0m \u001b[0;34m\"Gravity in m/s^2\"\u001b[0m\u001b[0;34m,\u001b[0m \u001b[0;34m\"Gravity with respect to last link frame\"\u001b[0m \u001b[0;34m)\u001b[0m\u001b[0;34m\u001b[0m\u001b[0m\n\u001b[1;32m      3\u001b[0m \u001b[0mPlotNoLimOne\u001b[0m\u001b[0;34m(\u001b[0m\u001b[0mtime\u001b[0m\u001b[0;34m,\u001b[0m \u001b[0macc\u001b[0m\u001b[0;34m[\u001b[0m\u001b[0;34m:\u001b[0m\u001b[0;34m,\u001b[0m\u001b[0;36m0\u001b[0m\u001b[0;34m]\u001b[0m\u001b[0;34m+\u001b[0m\u001b[0mg_local\u001b[0m\u001b[0;34m[\u001b[0m\u001b[0;34m:\u001b[0m\u001b[0;34m,\u001b[0m\u001b[0;36m0\u001b[0m\u001b[0;34m]\u001b[0m\u001b[0;34m,\u001b[0m \u001b[0macc\u001b[0m\u001b[0;34m[\u001b[0m\u001b[0;34m:\u001b[0m\u001b[0;34m,\u001b[0m\u001b[0;36m1\u001b[0m\u001b[0;34m]\u001b[0m\u001b[0;34m+\u001b[0m\u001b[0mg_local\u001b[0m\u001b[0;34m[\u001b[0m\u001b[0;34m:\u001b[0m\u001b[0;34m,\u001b[0m\u001b[0;36m1\u001b[0m\u001b[0;34m]\u001b[0m\u001b[0;34m,\u001b[0m  \u001b[0macc\u001b[0m\u001b[0;34m[\u001b[0m\u001b[0;34m:\u001b[0m\u001b[0;34m,\u001b[0m\u001b[0;36m2\u001b[0m\u001b[0;34m]\u001b[0m\u001b[0;34m+\u001b[0m\u001b[0mg_local\u001b[0m\u001b[0;34m[\u001b[0m\u001b[0;34m:\u001b[0m\u001b[0;34m,\u001b[0m\u001b[0;36m2\u001b[0m\u001b[0;34m]\u001b[0m\u001b[0;34m,\u001b[0m \u001b[0;34m\"Acceleration gravity removed x\"\u001b[0m\u001b[0;34m,\u001b[0m \u001b[0;34m\"Acceleration gravity removed y\"\u001b[0m\u001b[0;34m,\u001b[0m \u001b[0;34m\"Acceleration gravity removed z\"\u001b[0m\u001b[0;34m,\u001b[0m \u001b[0;34m\"Elapsed time in s\"\u001b[0m\u001b[0;34m,\u001b[0m \u001b[0;34m\"Acceleration in m/s^2\"\u001b[0m\u001b[0;34m,\u001b[0m \u001b[0;34m\"Gravity removed from Sensor Signal\"\u001b[0m \u001b[0;34m)\u001b[0m\u001b[0;34m\u001b[0m\u001b[0m\n",
      "\u001b[0;31mTypeError\u001b[0m: PlotNoLimOne() takes 9 positional arguments but 10 were given"
     ]
    }
   ],
   "source": [
    "PlotNoLimOne(time, acc[:,0], acc[:,1],  acc[:,2], \"Sensor data in x\", \"Sensor data in y\", \"Sensor data in z\", \"Elapsed time in s\", \"Acceleration in m/s^2\", \"Sensor data in m/s^2 with respect to last link frame\")\n",
    "PlotNoLimOne(time, g_local[:,0], g_local[:,1],  g_local[:,2], \"Gravity in x\", \"Gravity in y\", \"Gravity in z\", \"Elapsed time in s\", \"Gravity in m/s^2\", \"Gravity with respect to last link frame\" )\n",
    "PlotNoLimOne(time, acc[:,0]+g_local[:,0], acc[:,1]+g_local[:,1],  acc[:,2]+g_local[:,2], \"Acceleration gravity removed x\", \"Acceleration gravity removed y\", \"Acceleration gravity removed z\", \"Elapsed time in s\", \"Acceleration in m/s^2\", \"Gravity removed from Sensor Signal\" )"
   ]
  },
  {
   "cell_type": "code",
   "execution_count": null,
   "metadata": {},
   "outputs": [],
   "source": []
  }
 ],
 "metadata": {
  "kernelspec": {
   "display_name": "Python 3",
   "language": "python",
   "name": "python3"
  },
  "language_info": {
   "codemirror_mode": {
    "name": "ipython",
    "version": 3
   },
   "file_extension": ".py",
   "mimetype": "text/x-python",
   "name": "python",
   "nbconvert_exporter": "python",
   "pygments_lexer": "ipython3",
   "version": "3.5.2"
  }
 },
 "nbformat": 4,
 "nbformat_minor": 2
}
